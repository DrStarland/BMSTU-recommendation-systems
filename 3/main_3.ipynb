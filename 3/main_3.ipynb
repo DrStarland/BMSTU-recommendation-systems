{
 "cells": [
  {
   "cell_type": "markdown",
   "id": "2876a559",
   "metadata": {
    "papermill": {
     "duration": 0.003786,
     "end_time": "2023-03-20T17:16:22.370771",
     "exception": false,
     "start_time": "2023-03-20T17:16:22.366985",
     "status": "completed"
    },
    "tags": []
   },
   "source": [
    "\n",
    "# сравнение tf-idf и lda в контентном фильтре"
   ]
  },
  {
   "cell_type": "code",
   "execution_count": 99,
   "id": "12ebdb56",
   "metadata": {
    "_cell_guid": "b1076dfc-b9ad-4769-8c92-a6c4dae69d19",
    "_uuid": "8f2839f25d086af736a60e9eeb907d3b93b6e0e5",
    "execution": {
     "iopub.execute_input": "2023-03-20T17:16:20.970081Z",
     "iopub.status.busy": "2023-03-20T17:16:20.969491Z",
     "iopub.status.idle": "2023-03-20T17:16:22.358706Z",
     "shell.execute_reply": "2023-03-20T17:16:22.357149Z"
    },
    "papermill": {
     "duration": 1.404223,
     "end_time": "2023-03-20T17:16:22.362306",
     "exception": false,
     "start_time": "2023-03-20T17:16:20.958083",
     "status": "completed"
    },
    "tags": []
   },
   "outputs": [],
   "source": [
    "import numpy as np\n",
    "import pandas as pd\n",
    "import nltk\n",
    "import time\n",
    "\n",
    "from sklearn.feature_extraction.text import TfidfVectorizer\n",
    "from sklearn.feature_extraction.text import CountVectorizer\n",
    "from sklearn.decomposition import LatentDirichletAllocation\n",
    "from sklearn.metrics.pairwise import cosine_similarity\n",
    "from sklearn.metrics.pairwise import pairwise_distances\n",
    "\n",
    "import matplotlib.pyplot as plt\n",
    "%matplotlib inline"
   ]
  },
  {
   "cell_type": "code",
   "execution_count": 14,
   "id": "b6280c79",
   "metadata": {
    "collapsed": true,
    "execution": {
     "iopub.execute_input": "2023-03-20T17:16:22.383582Z",
     "iopub.status.busy": "2023-03-20T17:16:22.383110Z",
     "iopub.status.idle": "2023-03-20T17:16:25.154160Z",
     "shell.execute_reply": "2023-03-20T17:16:25.152603Z"
    },
    "papermill": {
     "duration": 2.780123,
     "end_time": "2023-03-20T17:16:25.157526",
     "exception": false,
     "start_time": "2023-03-20T17:16:22.377403",
     "status": "completed"
    },
    "tags": []
   },
   "outputs": [
    {
     "name": "stdout",
     "output_type": "stream",
     "text": [
      "<class 'pandas.core.frame.DataFrame'>\n",
      "RangeIndex: 40833 entries, 0 to 40832\n",
      "Data columns (total 20 columns):\n",
      " #   Column                    Non-Null Count  Dtype  \n",
      "---  ------                    --------------  -----  \n",
      " 0   url                       40833 non-null  object \n",
      " 1   types                     40831 non-null  object \n",
      " 2   name                      40817 non-null  object \n",
      " 3   desc_snippet              27612 non-null  object \n",
      " 4   recent_reviews            2706 non-null   object \n",
      " 5   all_reviews               28470 non-null  object \n",
      " 6   release_date              37654 non-null  object \n",
      " 7   developer                 40490 non-null  object \n",
      " 8   publisher                 35733 non-null  object \n",
      " 9   popular_tags              37888 non-null  object \n",
      " 10  game_details              40313 non-null  object \n",
      " 11  languages                 40797 non-null  object \n",
      " 12  achievements              12194 non-null  float64\n",
      " 13  genre                     40395 non-null  object \n",
      " 14  game_description          37920 non-null  object \n",
      " 15  mature_content            2897 non-null   object \n",
      " 16  minimum_requirements      21069 non-null  object \n",
      " 17  recommended_requirements  21075 non-null  object \n",
      " 18  original_price            35522 non-null  object \n",
      " 19  discount_price            14543 non-null  object \n",
      "dtypes: float64(1), object(19)\n",
      "memory usage: 6.2+ MB\n"
     ]
    }
   ],
   "source": [
    "df = pd.read_csv(\"./steam_games.csv\") # https://www.kaggle.com/datasets/trolukovich/steam-games-complete-dataset/data\n",
    "# df.head(2)\n",
    "df.info()"
   ]
  },
  {
   "cell_type": "code",
   "execution_count": 16,
   "id": "6afc9345",
   "metadata": {
    "collapsed": true
   },
   "outputs": [
    {
     "data": {
      "text/html": [
       "<div>\n",
       "<style scoped>\n",
       "    .dataframe tbody tr th:only-of-type {\n",
       "        vertical-align: middle;\n",
       "    }\n",
       "\n",
       "    .dataframe tbody tr th {\n",
       "        vertical-align: top;\n",
       "    }\n",
       "\n",
       "    .dataframe thead th {\n",
       "        text-align: right;\n",
       "    }\n",
       "</style>\n",
       "<table border=\"1\" class=\"dataframe\">\n",
       "  <thead>\n",
       "    <tr style=\"text-align: right;\">\n",
       "      <th></th>\n",
       "      <th>url</th>\n",
       "      <th>types</th>\n",
       "      <th>name</th>\n",
       "      <th>desc_snippet</th>\n",
       "      <th>recent_reviews</th>\n",
       "      <th>all_reviews</th>\n",
       "      <th>release_date</th>\n",
       "      <th>developer</th>\n",
       "      <th>publisher</th>\n",
       "      <th>popular_tags</th>\n",
       "      <th>game_details</th>\n",
       "      <th>languages</th>\n",
       "      <th>achievements</th>\n",
       "      <th>genre</th>\n",
       "      <th>game_description</th>\n",
       "      <th>mature_content</th>\n",
       "      <th>minimum_requirements</th>\n",
       "      <th>recommended_requirements</th>\n",
       "      <th>original_price</th>\n",
       "      <th>discount_price</th>\n",
       "    </tr>\n",
       "  </thead>\n",
       "  <tbody>\n",
       "    <tr>\n",
       "      <th>0</th>\n",
       "      <td>https://store.steampowered.com/app/379720/DOOM/</td>\n",
       "      <td>app</td>\n",
       "      <td>DOOM</td>\n",
       "      <td>Now includes all three premium DLC packs (Unto...</td>\n",
       "      <td>Very Positive,(554),- 89% of the 554 user revi...</td>\n",
       "      <td>Very Positive,(42,550),- 92% of the 42,550 use...</td>\n",
       "      <td>May 12, 2016</td>\n",
       "      <td>id Software</td>\n",
       "      <td>Bethesda Softworks,Bethesda Softworks</td>\n",
       "      <td>FPS,Gore,Action,Demons,Shooter,First-Person,Gr...</td>\n",
       "      <td>Single-player,Multi-player,Co-op,Steam Achieve...</td>\n",
       "      <td>English,French,Italian,German,Spanish - Spain,...</td>\n",
       "      <td>54.0</td>\n",
       "      <td>Action</td>\n",
       "      <td>About This Game Developed by id software, the...</td>\n",
       "      <td>NaN</td>\n",
       "      <td>Minimum:,OS:,Windows 7/8.1/10 (64-bit versions...</td>\n",
       "      <td>Recommended:,OS:,Windows 7/8.1/10 (64-bit vers...</td>\n",
       "      <td>$19.99</td>\n",
       "      <td>$14.99</td>\n",
       "    </tr>\n",
       "    <tr>\n",
       "      <th>1</th>\n",
       "      <td>https://store.steampowered.com/app/578080/PLAY...</td>\n",
       "      <td>app</td>\n",
       "      <td>PLAYERUNKNOWN'S BATTLEGROUNDS</td>\n",
       "      <td>PLAYERUNKNOWN'S BATTLEGROUNDS is a battle roya...</td>\n",
       "      <td>Mixed,(6,214),- 49% of the 6,214 user reviews ...</td>\n",
       "      <td>Mixed,(836,608),- 49% of the 836,608 user revi...</td>\n",
       "      <td>Dec 21, 2017</td>\n",
       "      <td>PUBG Corporation</td>\n",
       "      <td>PUBG Corporation,PUBG Corporation</td>\n",
       "      <td>Survival,Shooter,Multiplayer,Battle Royale,PvP...</td>\n",
       "      <td>Multi-player,Online Multi-Player,Stats</td>\n",
       "      <td>English,Korean,Simplified Chinese,French,Germa...</td>\n",
       "      <td>37.0</td>\n",
       "      <td>Action,Adventure,Massively Multiplayer</td>\n",
       "      <td>About This Game  PLAYERUNKNOWN'S BATTLEGROUND...</td>\n",
       "      <td>Mature Content Description  The developers de...</td>\n",
       "      <td>Minimum:,Requires a 64-bit processor and opera...</td>\n",
       "      <td>Recommended:,Requires a 64-bit processor and o...</td>\n",
       "      <td>$29.99</td>\n",
       "      <td>NaN</td>\n",
       "    </tr>\n",
       "    <tr>\n",
       "      <th>2</th>\n",
       "      <td>https://store.steampowered.com/app/637090/BATT...</td>\n",
       "      <td>app</td>\n",
       "      <td>BATTLETECH</td>\n",
       "      <td>Take command of your own mercenary outfit of '...</td>\n",
       "      <td>Mixed,(166),- 54% of the 166 user reviews in t...</td>\n",
       "      <td>Mostly Positive,(7,030),- 71% of the 7,030 use...</td>\n",
       "      <td>Apr 24, 2018</td>\n",
       "      <td>Harebrained Schemes</td>\n",
       "      <td>Paradox Interactive,Paradox Interactive</td>\n",
       "      <td>Mechs,Strategy,Turn-Based,Turn-Based Tactics,S...</td>\n",
       "      <td>Single-player,Multi-player,Online Multi-Player...</td>\n",
       "      <td>English,French,German,Russian</td>\n",
       "      <td>128.0</td>\n",
       "      <td>Action,Adventure,Strategy</td>\n",
       "      <td>About This Game  From original BATTLETECH/Mec...</td>\n",
       "      <td>NaN</td>\n",
       "      <td>Minimum:,Requires a 64-bit processor and opera...</td>\n",
       "      <td>Recommended:,Requires a 64-bit processor and o...</td>\n",
       "      <td>$39.99</td>\n",
       "      <td>NaN</td>\n",
       "    </tr>\n",
       "  </tbody>\n",
       "</table>\n",
       "</div>"
      ],
      "text/plain": [
       "                                                 url types  \\\n",
       "0    https://store.steampowered.com/app/379720/DOOM/   app   \n",
       "1  https://store.steampowered.com/app/578080/PLAY...   app   \n",
       "2  https://store.steampowered.com/app/637090/BATT...   app   \n",
       "\n",
       "                            name  \\\n",
       "0                           DOOM   \n",
       "1  PLAYERUNKNOWN'S BATTLEGROUNDS   \n",
       "2                     BATTLETECH   \n",
       "\n",
       "                                        desc_snippet  \\\n",
       "0  Now includes all three premium DLC packs (Unto...   \n",
       "1  PLAYERUNKNOWN'S BATTLEGROUNDS is a battle roya...   \n",
       "2  Take command of your own mercenary outfit of '...   \n",
       "\n",
       "                                      recent_reviews  \\\n",
       "0  Very Positive,(554),- 89% of the 554 user revi...   \n",
       "1  Mixed,(6,214),- 49% of the 6,214 user reviews ...   \n",
       "2  Mixed,(166),- 54% of the 166 user reviews in t...   \n",
       "\n",
       "                                         all_reviews  release_date  \\\n",
       "0  Very Positive,(42,550),- 92% of the 42,550 use...  May 12, 2016   \n",
       "1  Mixed,(836,608),- 49% of the 836,608 user revi...  Dec 21, 2017   \n",
       "2  Mostly Positive,(7,030),- 71% of the 7,030 use...  Apr 24, 2018   \n",
       "\n",
       "             developer                                publisher  \\\n",
       "0          id Software    Bethesda Softworks,Bethesda Softworks   \n",
       "1     PUBG Corporation        PUBG Corporation,PUBG Corporation   \n",
       "2  Harebrained Schemes  Paradox Interactive,Paradox Interactive   \n",
       "\n",
       "                                        popular_tags  \\\n",
       "0  FPS,Gore,Action,Demons,Shooter,First-Person,Gr...   \n",
       "1  Survival,Shooter,Multiplayer,Battle Royale,PvP...   \n",
       "2  Mechs,Strategy,Turn-Based,Turn-Based Tactics,S...   \n",
       "\n",
       "                                        game_details  \\\n",
       "0  Single-player,Multi-player,Co-op,Steam Achieve...   \n",
       "1             Multi-player,Online Multi-Player,Stats   \n",
       "2  Single-player,Multi-player,Online Multi-Player...   \n",
       "\n",
       "                                           languages  achievements  \\\n",
       "0  English,French,Italian,German,Spanish - Spain,...          54.0   \n",
       "1  English,Korean,Simplified Chinese,French,Germa...          37.0   \n",
       "2                      English,French,German,Russian         128.0   \n",
       "\n",
       "                                    genre  \\\n",
       "0                                  Action   \n",
       "1  Action,Adventure,Massively Multiplayer   \n",
       "2               Action,Adventure,Strategy   \n",
       "\n",
       "                                    game_description  \\\n",
       "0   About This Game Developed by id software, the...   \n",
       "1   About This Game  PLAYERUNKNOWN'S BATTLEGROUND...   \n",
       "2   About This Game  From original BATTLETECH/Mec...   \n",
       "\n",
       "                                      mature_content  \\\n",
       "0                                                NaN   \n",
       "1   Mature Content Description  The developers de...   \n",
       "2                                                NaN   \n",
       "\n",
       "                                minimum_requirements  \\\n",
       "0  Minimum:,OS:,Windows 7/8.1/10 (64-bit versions...   \n",
       "1  Minimum:,Requires a 64-bit processor and opera...   \n",
       "2  Minimum:,Requires a 64-bit processor and opera...   \n",
       "\n",
       "                            recommended_requirements original_price  \\\n",
       "0  Recommended:,OS:,Windows 7/8.1/10 (64-bit vers...         $19.99   \n",
       "1  Recommended:,Requires a 64-bit processor and o...         $29.99   \n",
       "2  Recommended:,Requires a 64-bit processor and o...         $39.99   \n",
       "\n",
       "  discount_price  \n",
       "0         $14.99  \n",
       "1            NaN  \n",
       "2            NaN  "
      ]
     },
     "execution_count": 16,
     "metadata": {},
     "output_type": "execute_result"
    }
   ],
   "source": [
    "df.head(3)"
   ]
  },
  {
   "cell_type": "code",
   "execution_count": 110,
   "id": "e53b1904",
   "metadata": {
    "execution": {
     "iopub.execute_input": "2023-03-20T17:16:25.267662Z",
     "iopub.status.busy": "2023-03-20T17:16:25.267208Z",
     "iopub.status.idle": "2023-03-20T17:16:25.310278Z",
     "shell.execute_reply": "2023-03-20T17:16:25.308893Z"
    },
    "papermill": {
     "duration": 0.052661,
     "end_time": "2023-03-20T17:16:25.313271",
     "exception": false,
     "start_time": "2023-03-20T17:16:25.260610",
     "status": "completed"
    },
    "tags": []
   },
   "outputs": [
    {
     "name": "stdout",
     "output_type": "stream",
     "text": [
      "<class 'pandas.core.frame.DataFrame'>\n",
      "RangeIndex: 20000 entries, 0 to 19999\n",
      "Data columns (total 5 columns):\n",
      " #   Column            Non-Null Count  Dtype \n",
      "---  ------            --------------  ----- \n",
      " 0   name              20000 non-null  object\n",
      " 1   desc_snippet      20000 non-null  object\n",
      " 2   game_description  20000 non-null  object\n",
      " 3   popular_tags      20000 non-null  object\n",
      " 4   genre             20000 non-null  object\n",
      "dtypes: object(5)\n",
      "memory usage: 781.4+ KB\n"
     ]
    }
   ],
   "source": [
    "df1 = df[[\"name\", \"desc_snippet\", \"game_description\", \"popular_tags\",\"genre\"]]\n",
    "df2 = pd.DataFrame(df1.fillna(\"\"))[:20000]\n",
    "\n",
    "df2.info()"
   ]
  },
  {
   "cell_type": "code",
   "execution_count": 4,
   "id": "915f4ea1",
   "metadata": {
    "collapsed": true
   },
   "outputs": [
    {
     "name": "stderr",
     "output_type": "stream",
     "text": [
      "[nltk_data] Downloading package stopwords to\n",
      "[nltk_data]     C:\\Users\\User\\AppData\\Roaming\\nltk_data...\n",
      "[nltk_data]   Package stopwords is already up-to-date!\n"
     ]
    },
    {
     "data": {
      "text/plain": [
       "True"
      ]
     },
     "execution_count": 4,
     "metadata": {},
     "output_type": "execute_result"
    }
   ],
   "source": [
    "nltk.download('stopwords')"
   ]
  },
  {
   "cell_type": "code",
   "execution_count": 5,
   "id": "e470db92",
   "metadata": {},
   "outputs": [],
   "source": [
    "# Дополнительные стоп-слова: https://github.com/stopwords-iso/stopwords-en/blob/master/stopwords-en.json\n",
    "extensions = [\"game\", \"'ll\",\"'tis\",\"'twas\",\"'ve\",\"10\",\"39\",\"a\",\"a's\",\"able\",\"ableabout\",\"about\",\"above\",\"abroad\",\"abst\",\"accordance\",\"according\",\"accordingly\",\"across\",\"act\",\"actually\",\"ad\",\"added\",\"adj\",\"adopted\",\"ae\",\"af\",\"affected\",\"affecting\",\"affects\",\"after\",\"afterwards\",\"ag\",\"again\",\"against\",\"ago\",\"ah\",\"ahead\",\"ai\",\"ain't\",\"aint\",\"al\",\"all\",\"allow\",\"allows\",\"almost\",\"alone\",\"along\",\"alongside\",\"already\",\"also\",\"although\",\"always\",\"am\",\"amid\",\"amidst\",\"among\",\"amongst\",\"amoungst\",\"amount\",\"an\",\"and\",\"announce\",\"another\",\"any\",\"anybody\",\"anyhow\",\"anymore\",\"anyone\",\"anything\",\"anyway\",\"anyways\",\"anywhere\",\"ao\",\"apart\",\"apparently\",\"appear\",\"appreciate\",\"appropriate\",\"approximately\",\"aq\",\"ar\",\"are\",\"area\",\"areas\",\"aren\",\"aren't\",\"arent\",\"arise\",\"around\",\"arpa\",\"as\",\"aside\",\"ask\",\"asked\",\"asking\",\"asks\",\"associated\",\"at\",\"au\",\"auth\",\"available\",\"aw\",\"away\",\"awfully\",\"az\",\"b\",\"ba\",\"back\",\"backed\",\"backing\",\"backs\",\"backward\",\"backwards\",\"bb\",\"bd\",\"be\",\"became\",\"because\",\"become\",\"becomes\",\"becoming\",\"been\",\"before\",\"beforehand\",\"began\",\"begin\",\"beginning\",\"beginnings\",\"begins\",\"behind\",\"being\",\"beings\",\"believe\",\"below\",\"beside\",\"besides\",\"best\",\"better\",\"between\",\"beyond\",\"bf\",\"bg\",\"bh\",\"bi\",\"big\",\"bill\",\"billion\",\"biol\",\"bj\",\"bm\",\"bn\",\"bo\",\"both\",\"bottom\",\"br\",\"brief\",\"briefly\",\"bs\",\"bt\",\"but\",\"buy\",\"bv\",\"bw\",\"by\",\"bz\",\"c\",\"c'mon\",\"c's\",\"ca\",\"call\",\"came\",\"can\",\"can't\",\"cannot\",\"cant\",\"caption\",\"case\",\"cases\",\"cause\",\"causes\",\"cc\",\"cd\",\"certain\",\"certainly\",\"cf\",\"cg\",\"ch\",\"changes\",\"ci\",\"ck\",\"cl\",\"clear\",\"clearly\",\"click\",\"cm\",\"cmon\",\"cn\",\"co\",\"co.\",\"com\",\"come\",\"comes\",\"computer\",\"con\",\"concerning\",\"consequently\",\"consider\",\"considering\",\"contain\",\"containing\",\"contains\",\"copy\",\"corresponding\",\"could\",\"could've\",\"couldn\",\"couldn't\",\"couldnt\",\"course\",\"cr\",\"cry\",\"cs\",\"cu\",\"currently\",\"cv\",\"cx\",\"cy\",\"cz\",\"d\",\"dare\",\"daren't\",\"darent\",\"date\",\"de\",\"dear\",\"definitely\",\"describe\",\"described\",\"despite\",\"detail\",\"did\",\"didn\",\"didn't\",\"didnt\",\"differ\",\"different\",\"differently\",\"directly\",\"dj\",\"dk\",\"dm\",\"do\",\"does\",\"doesn\",\"doesn't\",\"doesnt\",\"doing\",\"don\",\"don't\",\"done\",\"dont\",\"doubtful\",\"down\",\"downed\",\"downing\",\"downs\",\"downwards\",\"due\",\"during\",\"dz\",\"e\",\"each\",\"early\",\"ec\",\"ed\",\"edu\",\"ee\",\"effect\",\"eg\",\"eh\",\"eight\",\"eighty\",\"either\",\"eleven\",\"else\",\"elsewhere\",\"empty\",\"end\",\"ended\",\"ending\",\"ends\",\"enough\",\"entirely\",\"er\",\"es\",\"especially\",\"et\",\"et-al\",\"etc\",\"even\",\"evenly\",\"ever\",\"evermore\",\"every\",\"everybody\",\"everyone\",\"everything\",\"everywhere\",\"ex\",\"exactly\",\"example\",\"except\",\"f\",\"face\",\"faces\",\"fact\",\"facts\",\"fairly\",\"far\",\"farther\",\"felt\",\"few\",\"fewer\",\"ff\",\"fi\",\"fifteen\",\"fifth\",\"fifty\",\"fify\",\"fill\",\"find\",\"finds\",\"fire\",\"first\",\"five\",\"fix\",\"fj\",\"fk\",\"fm\",\"fo\",\"followed\",\"following\",\"follows\",\"for\",\"forever\",\"former\",\"formerly\",\"forth\",\"forty\",\"forward\",\"found\",\"four\",\"fr\",\"free\",\"from\",\"front\",\"full\",\"fully\",\"further\",\"furthered\",\"furthering\",\"furthermore\",\"furthers\",\"fx\",\"g\",\"ga\",\"gave\",\"gb\",\"gd\",\"ge\",\"general\",\"generally\",\"get\",\"gets\",\"getting\",\"gf\",\"gg\",\"gh\",\"gi\",\"give\",\"given\",\"gives\",\"giving\",\"gl\",\"gm\",\"gmt\",\"gn\",\"go\",\"goes\",\"going\",\"gone\",\"good\",\"goods\",\"got\",\"gotten\",\"gov\",\"gp\",\"gq\",\"gr\",\"great\",\"greater\",\"greatest\",\"greetings\",\"group\",\"grouped\",\"grouping\",\"groups\",\"gs\",\"gt\",\"gu\",\"gw\",\"gy\",\"h\",\"had\",\"hadn't\",\"hadnt\",\"half\",\"happens\",\"hardly\",\"has\",\"hasn\",\"hasn't\",\"hasnt\",\"have\",\"haven\",\"haven't\",\"havent\",\"having\",\"he\",\"he'd\",\"he'll\",\"he's\",\"hed\",\"hell\",\"hello\",\"help\",\"hence\",\"her\",\"here\",\"here's\",\"hereafter\",\"hereby\",\"herein\",\"heres\",\"hereupon\",\"hers\",\"herself\",\"herse”\",\"hes\",\"hi\",\"hid\",\"high\",\"higher\",\"highest\",\"him\",\"himself\",\"himse”\",\"his\",\"hither\",\"hk\",\"hm\",\"hn\",\"home\",\"homepage\",\"hopefully\",\"how\",\"how'd\",\"how'll\",\"how's\",\"howbeit\",\"however\",\"hr\",\"ht\",\"htm\",\"html\",\"http\",\"hu\",\"hundred\",\"i\",\"i'd\",\"i'll\",\"i'm\",\"i've\",\"i.e.\",\"id\",\"ie\",\"if\",\"ignored\",\"ii\",\"il\",\"ill\",\"im\",\"immediate\",\"immediately\",\"importance\",\"important\",\"in\",\"inasmuch\",\"inc\",\"inc.\",\"indeed\",\"index\",\"indicate\",\"indicated\",\"indicates\",\"information\",\"inner\",\"inside\",\"insofar\",\"instead\",\"int\",\"interest\",\"interested\",\"interesting\",\"interests\",\"into\",\"invention\",\"inward\",\"io\",\"iq\",\"ir\",\"is\",\"isn\",\"isn't\",\"isnt\",\"it\",\"it'd\",\"it'll\",\"it's\",\"itd\",\"itll\",\"its\",\"itself\",\"itse”\",\"ive\",\"j\",\"je\",\"jm\",\"jo\",\"join\",\"jp\",\"just\",\"k\",\"ke\",\"keep\",\"keeps\",\"kept\",\"keys\",\"kg\",\"kh\",\"ki\",\"kind\",\"km\",\"kn\",\"knew\",\"know\",\"known\",\"knows\",\"kp\",\"kr\",\"kw\",\"ky\",\"kz\",\"l\",\"la\",\"large\",\"largely\",\"last\",\"lately\",\"later\",\"latest\",\"latter\",\"latterly\",\"lb\",\"lc\",\"least\",\"length\",\"less\",\"lest\",\"let\",\"let's\",\"lets\",\"li\",\"like\",\"liked\",\"likely\",\"likewise\",\"line\",\"little\",\"lk\",\"ll\",\"long\",\"longer\",\"longest\",\"look\",\"looking\",\"looks\",\"low\",\"lower\",\"lr\",\"ls\",\"lt\",\"ltd\",\"lu\",\"lv\",\"ly\",\"m\",\"ma\",\"made\",\"mainly\",\"make\",\"makes\",\"making\",\"man\",\"many\",\"may\",\"maybe\",\"mayn't\",\"maynt\",\"mc\",\"md\",\"me\",\"mean\",\"means\",\"meantime\",\"meanwhile\",\"member\",\"members\",\"men\",\"merely\",\"mg\",\"mh\",\"microsoft\",\"might\",\"might've\",\"mightn't\",\"mightnt\",\"mil\",\"mill\",\"million\",\"mine\",\"minus\",\"miss\",\"mk\",\"ml\",\"mm\",\"mn\",\"mo\",\"more\",\"moreover\",\"most\",\"mostly\",\"move\",\"mp\",\"mq\",\"mr\",\"mrs\",\"ms\",\"msie\",\"mt\",\"mu\",\"much\",\"mug\",\"must\",\"must've\",\"mustn't\",\"mustnt\",\"mv\",\"mw\",\"mx\",\"my\",\"myself\",\"myse”\",\"mz\",\"n\",\"na\",\"name\",\"namely\",\"nay\",\"nc\",\"nd\",\"ne\",\"near\",\"nearly\",\"necessarily\",\"necessary\",\"need\",\"needed\",\"needing\",\"needn't\",\"neednt\",\"needs\",\"neither\",\"net\",\"netscape\",\"never\",\"neverf\",\"neverless\",\"nevertheless\",\"new\",\"newer\",\"newest\",\"next\",\"nf\",\"ng\",\"ni\",\"nine\",\"ninety\",\"nl\",\"no\",\"no-one\",\"nobody\",\"non\",\"none\",\"nonetheless\",\"noone\",\"nor\",\"normally\",\"nos\",\"not\",\"noted\",\"nothing\",\"notwithstanding\",\"novel\",\"now\",\"nowhere\",\"np\",\"nr\",\"nu\",\"null\",\"number\",\"numbers\",\"nz\",\"o\",\"obtain\",\"obtained\",\"obviously\",\"of\",\"off\",\"often\",\"oh\",\"ok\",\"okay\",\"old\",\"older\",\"oldest\",\"om\",\"omitted\",\"on\",\"once\",\"one\",\"one's\",\"ones\",\"only\",\"onto\",\"open\",\"opened\",\"opening\",\"opens\",\"opposite\",\"or\",\"ord\",\"order\",\"ordered\",\"ordering\",\"orders\",\"org\",\"other\",\"others\",\"otherwise\",\"ought\",\"oughtn't\",\"oughtnt\",\"our\",\"ours\",\"ourselves\",\"out\",\"outside\",\"over\",\"overall\",\"owing\",\"own\",\"p\",\"pa\",\"page\",\"pages\",\"part\",\"parted\",\"particular\",\"particularly\",\"parting\",\"parts\",\"past\",\"pe\",\"per\",\"perhaps\",\"pf\",\"pg\",\"ph\",\"pk\",\"pl\",\"place\",\"placed\",\"places\",\"please\",\"plus\",\"pm\",\"pmid\",\"pn\",\"point\",\"pointed\",\"pointing\",\"points\",\"poorly\",\"possible\",\"possibly\",\"potentially\",\"pp\",\"pr\",\"predominantly\",\"present\",\"presented\",\"presenting\",\"presents\",\"presumably\",\"previously\",\"primarily\",\"probably\",\"problem\",\"problems\",\"promptly\",\"proud\",\"provided\",\"provides\",\"pt\",\"put\",\"puts\",\"pw\",\"py\",\"q\",\"qa\",\"que\",\"quickly\",\"quite\",\"qv\",\"r\",\"ran\",\"rather\",\"rd\",\"re\",\"readily\",\"really\",\"reasonably\",\"recent\",\"recently\",\"ref\",\"refs\",\"regarding\",\"regardless\",\"regards\",\"related\",\"relatively\",\"research\",\"reserved\",\"respectively\",\"resulted\",\"resulting\",\"results\",\"right\",\"ring\",\"ro\",\"room\",\"rooms\",\"round\",\"ru\",\"run\",\"rw\",\"s\",\"sa\",\"said\",\"same\",\"saw\",\"say\",\"saying\",\"says\",\"sb\",\"sc\",\"sd\",\"se\",\"sec\",\"second\",\"secondly\",\"seconds\",\"section\",\"see\",\"seeing\",\"seem\",\"seemed\",\"seeming\",\"seems\",\"seen\",\"sees\",\"self\",\"selves\",\"sensible\",\"sent\",\"serious\",\"seriously\",\"seven\",\"seventy\",\"several\",\"sg\",\"sh\",\"shall\",\"shan't\",\"shant\",\"she\",\"she'd\",\"she'll\",\"she's\",\"shed\",\"shell\",\"shes\",\"should\",\"should've\",\"shouldn\",\"shouldn't\",\"shouldnt\",\"show\",\"showed\",\"showing\",\"shown\",\"showns\",\"shows\",\"si\",\"side\",\"sides\",\"significant\",\"significantly\",\"similar\",\"similarly\",\"since\",\"sincere\",\"site\",\"six\",\"sixty\",\"sj\",\"sk\",\"sl\",\"slightly\",\"sm\",\"small\",\"smaller\",\"smallest\",\"sn\",\"so\",\"some\",\"somebody\",\"someday\",\"somehow\",\"someone\",\"somethan\",\"something\",\"sometime\",\"sometimes\",\"somewhat\",\"somewhere\",\"soon\",\"sorry\",\"specifically\",\"specified\",\"specify\",\"specifying\",\"sr\",\"st\",\"state\",\"states\",\"still\",\"stop\",\"strongly\",\"su\",\"sub\",\"substantially\",\"successfully\",\"such\",\"sufficiently\",\"suggest\",\"sup\",\"sure\",\"sv\",\"sy\",\"system\",\"sz\",\"t\",\"t's\",\"take\",\"taken\",\"taking\",\"tc\",\"td\",\"tell\",\"ten\",\"tends\",\"test\",\"text\",\"tf\",\"tg\",\"th\",\"than\",\"thank\",\"thanks\",\"thanx\",\"that\",\"that'll\",\"that's\",\"that've\",\"thatll\",\"thats\",\"thatve\",\"the\",\"their\",\"theirs\",\"them\",\"themselves\",\"then\",\"thence\",\"there\",\"there'd\",\"there'll\",\"there're\",\"there's\",\"there've\",\"thereafter\",\"thereby\",\"thered\",\"therefore\",\"therein\",\"therell\",\"thereof\",\"therere\",\"theres\",\"thereto\",\"thereupon\",\"thereve\",\"these\",\"they\",\"they'd\",\"they'll\",\"they're\",\"they've\",\"theyd\",\"theyll\",\"theyre\",\"theyve\",\"thick\",\"thin\",\"thing\",\"things\",\"think\",\"thinks\",\"third\",\"thirty\",\"this\",\"thorough\",\"thoroughly\",\"those\",\"thou\",\"though\",\"thoughh\",\"thought\",\"thoughts\",\"thousand\",\"three\",\"throug\",\"through\",\"throughout\",\"thru\",\"thus\",\"til\",\"till\",\"tip\",\"tis\",\"tj\",\"tk\",\"tm\",\"tn\",\"to\",\"today\",\"together\",\"too\",\"took\",\"top\",\"toward\",\"towards\",\"tp\",\"tr\",\"tried\",\"tries\",\"trillion\",\"truly\",\"try\",\"trying\",\"ts\",\"tt\",\"turn\",\"turned\",\"turning\",\"turns\",\"tv\",\"tw\",\"twas\",\"twelve\",\"twenty\",\"twice\",\"two\",\"tz\",\"u\",\"ua\",\"ug\",\"uk\",\"um\",\"un\",\"under\",\"underneath\",\"undoing\",\"unfortunately\",\"unless\",\"unlike\",\"unlikely\",\"until\",\"unto\",\"up\",\"upon\",\"ups\",\"upwards\",\"us\",\"use\",\"used\",\"useful\",\"usefully\",\"usefulness\",\"uses\",\"using\",\"usually\",\"uucp\",\"uy\",\"uz\",\"v\",\"va\",\"value\",\"various\",\"vc\",\"ve\",\"versus\",\"very\",\"vg\",\"vi\",\"via\",\"viz\",\"vn\",\"vol\",\"vols\",\"vs\",\"vu\",\"w\",\"want\",\"wanted\",\"wanting\",\"wants\",\"was\",\"wasn\",\"wasn't\",\"wasnt\",\"way\",\"ways\",\"we\",\"we'd\",\"we'll\",\"we're\",\"we've\",\"web\",\"webpage\",\"website\",\"wed\",\"welcome\",\"well\",\"wells\",\"went\",\"were\",\"weren\",\"weren't\",\"werent\",\"weve\",\"wf\",\"what\",\"what'd\",\"what'll\",\"what's\",\"what've\",\"whatever\",\"whatll\",\"whats\",\"whatve\",\"when\",\"when'd\",\"when'll\",\"when's\",\"whence\",\"whenever\",\"where\",\"where'd\",\"where'll\",\"where's\",\"whereafter\",\"whereas\",\"whereby\",\"wherein\",\"wheres\",\"whereupon\",\"wherever\",\"whether\",\"which\",\"whichever\",\"while\",\"whilst\",\"whim\",\"whither\",\"who\",\"who'd\",\"who'll\",\"who's\",\"whod\",\"whoever\",\"whole\",\"wholl\",\"whom\",\"whomever\",\"whos\",\"whose\",\"why\",\"why'd\",\"why'll\",\"why's\",\"widely\",\"width\",\"will\",\"willing\",\"wish\",\"with\",\"within\",\"without\",\"won\",\"won't\",\"wonder\",\"wont\",\"words\",\"work\",\"worked\",\"working\",\"works\",\"world\",\n",
    "              \"would\",\"would've\",\"wouldn\",\"wouldn't\",\"wouldnt\",\"ws\",\"www\",\"x\",\"y\",\"ye\",\"year\",\"years\",\"yes\",\"yet\",\"you\",\"you'd\",\"you'll\",\"you're\",\"you've\",\"youd\",\"youll\",\"young\",\"younger\",\"youngest\",\"your\",\"youre\",\"yours\",\"yourself\",\"yourselves\",\"youve\",\"yt\",\"yu\",\"z\",\"za\",\"zero\",\"zm\",\"zr\"]\n"
   ]
  },
  {
   "cell_type": "code",
   "execution_count": 31,
   "id": "52dab192",
   "metadata": {
    "collapsed": true,
    "execution": {
     "iopub.execute_input": "2023-03-20T17:16:25.325395Z",
     "iopub.status.busy": "2023-03-20T17:16:25.324922Z",
     "iopub.status.idle": "2023-03-20T17:16:29.404843Z",
     "shell.execute_reply": "2023-03-20T17:16:29.403589Z"
    },
    "papermill": {
     "duration": 4.089086,
     "end_time": "2023-03-20T17:16:29.407506",
     "exception": false,
     "start_time": "2023-03-20T17:16:25.318420",
     "status": "completed"
    },
    "tags": []
   },
   "outputs": [
    {
     "name": "stderr",
     "output_type": "stream",
     "text": [
      "G:\\ProgramFiles\\Anaconda\\lib\\site-packages\\sklearn\\feature_extraction\\text.py:396: UserWarning: Your stop_words may be inconsistent with your preprocessing. Tokenizing the stop words generated tokens ['daren', 'herse', 'himse', 'itse', 'mayn', 'mon', 'myse', 'oughtn'] not in stop_words.\n",
      "  warnings.warn(\n"
     ]
    }
   ],
   "source": [
    "tfidf = TfidfVectorizer(\n",
    "                     use_idf=True,\n",
    "                     min_df=0.01,\n",
    "                     ngram_range=(1,3),\n",
    "                     stop_words=stopwords\n",
    "                    )\n",
    "\n",
    "# объединяем столбики с описаниями, чтобы получить больше информации о каждой игре и обработать тфидф-ом\n",
    "tfidf_matrix = tfidf.fit_transform(\n",
    "    df2[\"popular_tags\"] + \"\\n\" + df2[\"genre\"] + df2[\"desc_snippet\"] + \"\\n\" + df2[\"game_description\"]\n",
    ")\n",
    "\n",
    "tfidf_matrix.shape"
   ]
  },
  {
   "cell_type": "code",
   "execution_count": 130,
   "id": "6d0e4364",
   "metadata": {
    "execution": {
     "iopub.execute_input": "2023-03-20T17:16:31.515633Z",
     "iopub.status.busy": "2023-03-20T17:16:31.515201Z",
     "iopub.status.idle": "2023-03-20T17:16:45.609944Z",
     "shell.execute_reply": "2023-03-20T17:16:45.608990Z"
    },
    "papermill": {
     "duration": 14.104314,
     "end_time": "2023-03-20T17:16:45.612759",
     "exception": false,
     "start_time": "2023-03-20T17:16:31.508445",
     "status": "completed"
    },
    "tags": []
   },
   "outputs": [
    {
     "data": {
      "text/plain": [
       "(20000, 20000)"
      ]
     },
     "execution_count": 130,
     "metadata": {},
     "output_type": "execute_result"
    }
   ],
   "source": [
    "cosine_sim = pairwise_distances(tfidf_matrix, metric='euclidean') #cosine_similarity(tfidf_matrix, tfidf_matrix)\n",
    "\n",
    "\n",
    "cosine_sim.shape"
   ]
  },
  {
   "cell_type": "code",
   "execution_count": 56,
   "id": "0a2e2c05",
   "metadata": {},
   "outputs": [],
   "source": [
    "from sklearn.cluster import KMeans\n",
    "#k-means\n",
    "num_clusters = 20\n",
    "km = KMeans(n_clusters=num_clusters)\n",
    "km.fit(tfidf_matrix)\n",
    "clusterkm = km.labels_.tolist()"
   ]
  },
  {
   "cell_type": "code",
   "execution_count": 57,
   "id": "6e35544f",
   "metadata": {},
   "outputs": [],
   "source": [
    "import umap.umap_ as umap\n",
    "\n",
    "embedding = umap.UMAP(n_neighbors=100).fit_transform(tfidf_matrix) # преобразовываем"
   ]
  },
  {
   "cell_type": "code",
   "execution_count": 58,
   "id": "0a044d80",
   "metadata": {},
   "outputs": [
    {
     "data": {
      "image/png": "[encoded data removed]",
      "text/plain": [
       "<Figure size 1600x1000 with 1 Axes>"
      ]
     },
     "metadata": {},
     "output_type": "display_data"
    }
   ],
   "source": [
    "fig, ax = plt.subplots(figsize=(16, 10)) #figsize подбирается под ваш вкус\n",
    "\n",
    "ax.scatter(embedding[:, 0], embedding[:, 1], s=40, c=clusterkm) #, norm='linear')\n",
    "\n",
    "plt.show()"
   ]
  },
  {
   "cell_type": "code",
   "execution_count": 119,
   "id": "0f93d5d9",
   "metadata": {
    "execution": {
     "iopub.execute_input": "2023-03-20T17:16:45.680041Z",
     "iopub.status.busy": "2023-03-20T17:16:45.679523Z",
     "iopub.status.idle": "2023-03-20T17:16:45.687734Z",
     "shell.execute_reply": "2023-03-20T17:16:45.686042Z"
    },
    "papermill": {
     "duration": 0.018704,
     "end_time": "2023-03-20T17:16:45.690928",
     "exception": false,
     "start_time": "2023-03-20T17:16:45.672224",
     "status": "completed"
    },
    "tags": []
   },
   "outputs": [],
   "source": [
    "def steam_game_recommender(title, cosine_sim, dataframe):\n",
    "    indices = pd.Series(dataframe.index, index=dataframe['name'])\n",
    "    indices = indices[~indices.index.duplicated(keep='last')]\n",
    "    game_index = indices[title]\n",
    "    similarity_scores = pd.DataFrame(cosine_sim[game_index], columns=[\"score\"])\n",
    "    game_indices = similarity_scores.sort_values(\"score\", ascending=True)[1:11].index\n",
    "    return dataframe['name'].iloc[game_indices]"
   ]
  },
  {
   "cell_type": "code",
   "execution_count": 39,
   "id": "37fed452",
   "metadata": {},
   "outputs": [
    {
     "data": {
      "text/plain": [
       "3879                    Holyday City: Reloaded\n",
       "751                                   Banished\n",
       "8705                               Hearthlands\n",
       "6159                                Seasteader\n",
       "395                           Cities: Skylines\n",
       "1653                                Anno 2205™\n",
       "9229    Children of the Nile: Enhanced Edition\n",
       "159                                 Foundation\n",
       "2642            Rebuild 3: Gangs of Deadsville\n",
       "293                             Surviving Mars\n",
       "Name: name, dtype: object"
      ]
     },
     "execution_count": 39,
     "metadata": {},
     "output_type": "execute_result"
    }
   ],
   "source": [
    "steam_game_recommender(\"Frostpunk\", cosine_sim, df2)"
   ]
  },
  {
   "cell_type": "code",
   "execution_count": 131,
   "id": "8b761a1f",
   "metadata": {},
   "outputs": [
    {
     "data": {
      "text/plain": [
       "704                            \n",
       "15619         IS Defense Editor\n",
       "13908    BrainBread 2 Mod Tools\n",
       "7869                           \n",
       "3879     Holyday City: Reloaded\n",
       "751                    Banished\n",
       "8705                Hearthlands\n",
       "6159                 Seasteader\n",
       "395            Cities: Skylines\n",
       "1653                 Anno 2205™\n",
       "Name: name, dtype: object"
      ]
     },
     "execution_count": 131,
     "metadata": {},
     "output_type": "execute_result"
    }
   ],
   "source": [
    "steam_game_recommender(\"Frostpunk\", cosine_sim, df2)"
   ]
  },
  {
   "cell_type": "code",
   "execution_count": 40,
   "id": "4bc5504d",
   "metadata": {
    "collapsed": true,
    "execution": {
     "iopub.execute_input": "2023-03-20T17:16:45.704428Z",
     "iopub.status.busy": "2023-03-20T17:16:45.703996Z",
     "iopub.status.idle": "2023-03-20T17:16:45.725604Z",
     "shell.execute_reply": "2023-03-20T17:16:45.723817Z"
    },
    "papermill": {
     "duration": 0.032797,
     "end_time": "2023-03-20T17:16:45.729237",
     "exception": false,
     "start_time": "2023-03-20T17:16:45.696440",
     "status": "completed"
    },
    "tags": []
   },
   "outputs": [
    {
     "data": {
      "text/plain": [
       "353                                       Star Trek Online\n",
       "9321                    Ring of Elysium-Gratitude of Dione\n",
       "89                                         Ring of Elysium\n",
       "14814    Steel Ocean - Steam's 1st Anniversary Gift Pac...\n",
       "1172                                         Star Conflict\n",
       "15958          Steel Ocean - Thanksgiving Day Gift Package\n",
       "12996              Realm of the Mad God: Slime Priest Skin\n",
       "6964                                       DayBreak Online\n",
       "12533                World of Warships - Indianapolis Pack\n",
       "158                                          VEGA Conflict\n",
       "Name: name, dtype: object"
      ]
     },
     "execution_count": 40,
     "metadata": {},
     "output_type": "execute_result"
    }
   ],
   "source": [
    "steam_game_recommender(\"EVE Online\", cosine_sim, df2)"
   ]
  },
  {
   "cell_type": "code",
   "execution_count": 41,
   "id": "f263b72a",
   "metadata": {
    "execution": {
     "iopub.execute_input": "2023-03-20T17:16:45.742468Z",
     "iopub.status.busy": "2023-03-20T17:16:45.742040Z",
     "iopub.status.idle": "2023-03-20T17:16:45.763660Z",
     "shell.execute_reply": "2023-03-20T17:16:45.762423Z"
    },
    "papermill": {
     "duration": 0.031079,
     "end_time": "2023-03-20T17:16:45.766006",
     "exception": false,
     "start_time": "2023-03-20T17:16:45.734927",
     "status": "completed"
    },
    "tags": []
   },
   "outputs": [
    {
     "data": {
      "text/plain": [
       "433                 Miscreated\n",
       "9335    ICY: Frostbite Edition\n",
       "2263                  CryoFall\n",
       "871              Mist Survival\n",
       "4642                  SURVIVAL\n",
       "517             XERA: Survival\n",
       "5231        Survival: Last Day\n",
       "1971              Metro Exodus\n",
       "290              7 Days to Die\n",
       "1075           Fade to Silence\n",
       "Name: name, dtype: object"
      ]
     },
     "execution_count": 41,
     "metadata": {},
     "output_type": "execute_result"
    }
   ],
   "source": [
    "steam_game_recommender(\"DayZ\", cosine_sim, df2)"
   ]
  },
  {
   "cell_type": "code",
   "execution_count": null,
   "id": "dddf6ec5",
   "metadata": {},
   "outputs": [],
   "source": []
  },
  {
   "cell_type": "code",
   "execution_count": 114,
   "id": "90fb9c63",
   "metadata": {
    "scrolled": true
   },
   "outputs": [
    {
     "data": {
      "text/plain": [
       "(20000, 1669)"
      ]
     },
     "execution_count": 114,
     "metadata": {},
     "output_type": "execute_result"
    }
   ],
   "source": [
    "count_vect = CountVectorizer(stop_words=stopwords,ngram_range=(1,3),min_df=0.01)\n",
    "dataset = count_vect.fit_transform(\n",
    "    df2[\"popular_tags\"] + \"\\n\" + df2[\"genre\"] + df2[\"desc_snippet\"] + \"\\n\" + df2[\"game_description\"]\n",
    ")\n",
    "dataset.shape"
   ]
  },
  {
   "cell_type": "code",
   "execution_count": 75,
   "id": "6be203d3",
   "metadata": {},
   "outputs": [
    {
     "name": "stdout",
     "output_type": "stream",
     "text": [
      "iteration: 1 of max_iter: 30\n",
      "iteration: 2 of max_iter: 30\n",
      "iteration: 3 of max_iter: 30\n",
      "iteration: 4 of max_iter: 30\n",
      "iteration: 5 of max_iter: 30\n",
      "iteration: 6 of max_iter: 30\n",
      "iteration: 7 of max_iter: 30\n",
      "iteration: 8 of max_iter: 30\n",
      "iteration: 9 of max_iter: 30\n",
      "iteration: 10 of max_iter: 30\n",
      "iteration: 11 of max_iter: 30\n",
      "iteration: 12 of max_iter: 30\n",
      "iteration: 13 of max_iter: 30\n",
      "iteration: 14 of max_iter: 30\n",
      "iteration: 15 of max_iter: 30\n",
      "iteration: 16 of max_iter: 30\n",
      "iteration: 17 of max_iter: 30\n",
      "iteration: 18 of max_iter: 30\n",
      "iteration: 19 of max_iter: 30\n",
      "iteration: 20 of max_iter: 30\n",
      "iteration: 21 of max_iter: 30\n",
      "iteration: 22 of max_iter: 30\n",
      "iteration: 23 of max_iter: 30\n",
      "iteration: 24 of max_iter: 30\n",
      "iteration: 25 of max_iter: 30\n",
      "iteration: 26 of max_iter: 30\n",
      "iteration: 27 of max_iter: 30\n",
      "iteration: 28 of max_iter: 30\n",
      "iteration: 29 of max_iter: 30\n",
      "iteration: 30 of max_iter: 30\n"
     ]
    },
    {
     "data": {
      "text/plain": [
       "LatentDirichletAllocation(max_iter=30, n_components=60, n_jobs=6, verbose=1)"
      ]
     },
     "execution_count": 75,
     "metadata": {},
     "output_type": "execute_result"
    }
   ],
   "source": [
    "lda = LatentDirichletAllocation(n_components = 60,\n",
    "                 max_iter=30,\n",
    "                 n_jobs=6,\n",
    "                 learning_method='batch',\n",
    "                 verbose=1)\n",
    "lda.fit(dataset)"
   ]
  },
  {
   "cell_type": "code",
   "execution_count": 115,
   "id": "4e9c6588",
   "metadata": {},
   "outputs": [
    {
     "data": {
      "text/plain": [
       "(20000, 60)"
      ]
     },
     "execution_count": 115,
     "metadata": {},
     "output_type": "execute_result"
    }
   ],
   "source": [
    "ldamatrix = lda.transform(dataset)\n",
    "ldamatrix.shape"
   ]
  },
  {
   "cell_type": "code",
   "execution_count": 137,
   "id": "6fb402b1",
   "metadata": {},
   "outputs": [],
   "source": [
    "cosine_sim2 = pairwise_distances(ldamatrix, metric='euclidean')"
   ]
  },
  {
   "cell_type": "code",
   "execution_count": 117,
   "id": "df385fc5",
   "metadata": {},
   "outputs": [
    {
     "data": {
      "text/plain": [
       "(20000, 20000)"
      ]
     },
     "execution_count": 117,
     "metadata": {},
     "output_type": "execute_result"
    }
   ],
   "source": [
    "cosine_sim2.shape"
   ]
  },
  {
   "cell_type": "code",
   "execution_count": 138,
   "id": "59de4e1a",
   "metadata": {},
   "outputs": [
    {
     "data": {
      "text/plain": [
       "271                  Left 4 Dead 2\n",
       "3733    Nether: The Untold Chapter\n",
       "459                    Watch_Dogs™\n",
       "517                 XERA: Survival\n",
       "661                       Unturned\n",
       "992                    BioShock® 2\n",
       "1443          State of Decay: YOSE\n",
       "5696              World of Zombies\n",
       "816            Plague Inc: Evolved\n",
       "9515                Darwin Project\n",
       "Name: name, dtype: object"
      ]
     },
     "execution_count": 138,
     "metadata": {},
     "output_type": "execute_result"
    }
   ],
   "source": [
    "steam_game_recommender(\"DayZ\", cosine_sim2, df2)"
   ]
  },
  {
   "cell_type": "code",
   "execution_count": 139,
   "id": "d44b2c0d",
   "metadata": {},
   "outputs": [
    {
     "data": {
      "text/plain": [
       "5751                                           Exocraft\n",
       "353                                    Star Trek Online\n",
       "9191     Of Guards And Thieves - Permanent Gold Account\n",
       "2405                                             Airmen\n",
       "19784                  Trove - Arcanium Expedition Pack\n",
       "19744                            TERA: Accessorize Pack\n",
       "1890                        CardLife: Creative Survival\n",
       "3337                                      Mortal Online\n",
       "4737                                          Hero Zero\n",
       "2257                            Age of Conan: Unchained\n",
       "Name: name, dtype: object"
      ]
     },
     "execution_count": 139,
     "metadata": {},
     "output_type": "execute_result"
    }
   ],
   "source": [
    "steam_game_recommender(\"EVE Online\", cosine_sim2, df2)"
   ]
  },
  {
   "cell_type": "code",
   "execution_count": 140,
   "id": "203fe343",
   "metadata": {},
   "outputs": [
    {
     "data": {
      "text/plain": [
       "1493                      Medieval Engineers\n",
       "1165                               Citystate\n",
       "751                                 Banished\n",
       "732     Workers & Resources: Soviet Republic\n",
       "2421                              Anno 2070™\n",
       "242                              Dawn of Man\n",
       "2642          Rebuild 3: Gangs of Deadsville\n",
       "1071                        Project Highrise\n",
       "2266                                Mashinky\n",
       "3870             Crest - an indirect god sim\n",
       "Name: name, dtype: object"
      ]
     },
     "execution_count": 140,
     "metadata": {},
     "output_type": "execute_result"
    }
   ],
   "source": [
    "steam_game_recommender(\"Frostpunk\", cosine_sim2, df2)"
   ]
  },
  {
   "cell_type": "code",
   "execution_count": null,
   "id": "84db4b4b",
   "metadata": {},
   "outputs": [],
   "source": []
  },
  {
   "cell_type": "code",
   "execution_count": null,
   "id": "4ad0d77a",
   "metadata": {},
   "outputs": [],
   "source": []
  },
  {
   "cell_type": "code",
   "execution_count": 127,
   "id": "50aafcad",
   "metadata": {},
   "outputs": [],
   "source": [
    "metrics = ['cosine', 'euclidean']\n",
    "train_data = df2[\"popular_tags\"] + \"\\n\" + df2[\"genre\"] + df2[\"desc_snippet\"] + \"\\n\" + df2[\"game_description\"]"
   ]
  },
  {
   "cell_type": "code",
   "execution_count": 126,
   "id": "b1ad5d4f",
   "metadata": {},
   "outputs": [
    {
     "name": "stdout",
     "output_type": "stream",
     "text": [
      "Время на инициализацию tf-idf с метрикой cosine: 28.351462602615356 c\n",
      "Время на инициализацию tf-idf с метрикой euclidean: 23.819862604141235 c\n"
     ]
    },
    {
     "ename": "TypeError",
     "evalue": "scipy distance metrics do not support sparse matrices.",
     "output_type": "error",
     "traceback": [
      "\u001b[1;31m---------------------------------------------------------------------------\u001b[0m",
      "\u001b[1;31mTypeError\u001b[0m                                 Traceback (most recent call last)",
      "\u001b[1;32m~\\AppData\\Local\\Temp\\ipykernel_20552\\1152471913.py\u001b[0m in \u001b[0;36m<module>\u001b[1;34m\u001b[0m\n\u001b[0;32m      9\u001b[0m     \u001b[1;31m# объединяем столбики с описаниями, чтобы получить больше информации о каждой игре и обработать тфидф-ом\u001b[0m\u001b[1;33m\u001b[0m\u001b[1;33m\u001b[0m\u001b[0m\n\u001b[0;32m     10\u001b[0m     \u001b[0mtfidf_matrix_time\u001b[0m \u001b[1;33m=\u001b[0m \u001b[0mtfidf\u001b[0m\u001b[1;33m.\u001b[0m\u001b[0mfit_transform\u001b[0m\u001b[1;33m(\u001b[0m\u001b[0mtrain_data\u001b[0m\u001b[1;33m)\u001b[0m\u001b[1;33m\u001b[0m\u001b[1;33m\u001b[0m\u001b[0m\n\u001b[1;32m---> 11\u001b[1;33m     \u001b[0mcosine_sim_time\u001b[0m \u001b[1;33m=\u001b[0m \u001b[0mpairwise_distances\u001b[0m\u001b[1;33m(\u001b[0m\u001b[0mtfidf_matrix\u001b[0m\u001b[1;33m,\u001b[0m \u001b[0mmetric\u001b[0m\u001b[1;33m=\u001b[0m\u001b[0mmetr\u001b[0m\u001b[1;33m)\u001b[0m \u001b[1;31m#cosine_similarity(tfidf_matrix, tfidf_matrix)\u001b[0m\u001b[1;33m\u001b[0m\u001b[1;33m\u001b[0m\u001b[0m\n\u001b[0m\u001b[0;32m     12\u001b[0m \u001b[1;33m\u001b[0m\u001b[0m\n\u001b[0;32m     13\u001b[0m     \u001b[0mend_time\u001b[0m \u001b[1;33m=\u001b[0m \u001b[0mtime\u001b[0m\u001b[1;33m.\u001b[0m\u001b[0mtime\u001b[0m\u001b[1;33m(\u001b[0m\u001b[1;33m)\u001b[0m\u001b[1;33m\u001b[0m\u001b[1;33m\u001b[0m\u001b[0m\n",
      "\u001b[1;32mG:\\ProgramFiles\\Anaconda\\lib\\site-packages\\sklearn\\metrics\\pairwise.py\u001b[0m in \u001b[0;36mpairwise_distances\u001b[1;34m(X, Y, metric, n_jobs, force_all_finite, **kwds)\u001b[0m\n\u001b[0;32m   1867\u001b[0m     \u001b[1;32melse\u001b[0m\u001b[1;33m:\u001b[0m\u001b[1;33m\u001b[0m\u001b[1;33m\u001b[0m\u001b[0m\n\u001b[0;32m   1868\u001b[0m         \u001b[1;32mif\u001b[0m \u001b[0missparse\u001b[0m\u001b[1;33m(\u001b[0m\u001b[0mX\u001b[0m\u001b[1;33m)\u001b[0m \u001b[1;32mor\u001b[0m \u001b[0missparse\u001b[0m\u001b[1;33m(\u001b[0m\u001b[0mY\u001b[0m\u001b[1;33m)\u001b[0m\u001b[1;33m:\u001b[0m\u001b[1;33m\u001b[0m\u001b[1;33m\u001b[0m\u001b[0m\n\u001b[1;32m-> 1869\u001b[1;33m             \u001b[1;32mraise\u001b[0m \u001b[0mTypeError\u001b[0m\u001b[1;33m(\u001b[0m\u001b[1;34m\"scipy distance metrics do not support sparse matrices.\"\u001b[0m\u001b[1;33m)\u001b[0m\u001b[1;33m\u001b[0m\u001b[1;33m\u001b[0m\u001b[0m\n\u001b[0m\u001b[0;32m   1870\u001b[0m \u001b[1;33m\u001b[0m\u001b[0m\n\u001b[0;32m   1871\u001b[0m         \u001b[0mdtype\u001b[0m \u001b[1;33m=\u001b[0m \u001b[0mbool\u001b[0m \u001b[1;32mif\u001b[0m \u001b[0mmetric\u001b[0m \u001b[1;32min\u001b[0m \u001b[0mPAIRWISE_BOOLEAN_FUNCTIONS\u001b[0m \u001b[1;32melse\u001b[0m \u001b[1;32mNone\u001b[0m\u001b[1;33m\u001b[0m\u001b[1;33m\u001b[0m\u001b[0m\n",
      "\u001b[1;31mTypeError\u001b[0m: scipy distance metrics do not support sparse matrices."
     ]
    }
   ],
   "source": [
    "for metr in metrics:\n",
    "    start_time = time.time()\n",
    "\n",
    "    tfidf_time = TfidfVectorizer(use_idf=True, min_df=0.01, ngram_range=(1,3), stop_words=stopwords)\n",
    "    # объединяем столбики с описаниями, чтобы получить больше информации о каждой игре и обработать тфидф-ом\n",
    "    tfidf_matrix_time = tfidf.fit_transform(train_data)\n",
    "    cosine_sim_time = pairwise_distances(tfidf_matrix, metric=metr) #cosine_similarity(tfidf_matrix, tfidf_matrix)\n",
    "\n",
    "    end_time = time.time()\n",
    "    e_time = (end_time - start_time)\n",
    "    print(\"Время на инициализацию tf-idf с метрикой {}: {} c\".format(metr, e_time))"
   ]
  },
  {
   "cell_type": "code",
   "execution_count": 128,
   "id": "7ad20bcd",
   "metadata": {},
   "outputs": [
    {
     "name": "stdout",
     "output_type": "stream",
     "text": [
      "iteration: 1 of max_iter: 30\n",
      "iteration: 2 of max_iter: 30\n",
      "iteration: 3 of max_iter: 30\n",
      "iteration: 4 of max_iter: 30\n",
      "iteration: 5 of max_iter: 30\n",
      "iteration: 6 of max_iter: 30\n",
      "iteration: 7 of max_iter: 30\n",
      "iteration: 8 of max_iter: 30\n",
      "iteration: 9 of max_iter: 30\n",
      "iteration: 10 of max_iter: 30\n",
      "iteration: 11 of max_iter: 30\n",
      "iteration: 12 of max_iter: 30\n",
      "iteration: 13 of max_iter: 30\n",
      "iteration: 14 of max_iter: 30\n",
      "iteration: 15 of max_iter: 30\n",
      "iteration: 16 of max_iter: 30\n",
      "iteration: 17 of max_iter: 30\n",
      "iteration: 18 of max_iter: 30\n",
      "iteration: 19 of max_iter: 30\n",
      "iteration: 20 of max_iter: 30\n",
      "iteration: 21 of max_iter: 30\n",
      "iteration: 22 of max_iter: 30\n",
      "iteration: 23 of max_iter: 30\n",
      "iteration: 24 of max_iter: 30\n",
      "iteration: 25 of max_iter: 30\n",
      "iteration: 26 of max_iter: 30\n",
      "iteration: 27 of max_iter: 30\n",
      "iteration: 28 of max_iter: 30\n",
      "iteration: 29 of max_iter: 30\n",
      "iteration: 30 of max_iter: 30\n",
      "Время на инициализацию tf-idf с метрикой cosine: 110.9689519405365 c\n",
      "iteration: 1 of max_iter: 30\n",
      "iteration: 2 of max_iter: 30\n",
      "iteration: 3 of max_iter: 30\n",
      "iteration: 4 of max_iter: 30\n",
      "iteration: 5 of max_iter: 30\n",
      "iteration: 6 of max_iter: 30\n",
      "iteration: 7 of max_iter: 30\n",
      "iteration: 8 of max_iter: 30\n",
      "iteration: 9 of max_iter: 30\n",
      "iteration: 10 of max_iter: 30\n",
      "iteration: 11 of max_iter: 30\n",
      "iteration: 12 of max_iter: 30\n",
      "iteration: 13 of max_iter: 30\n",
      "iteration: 14 of max_iter: 30\n",
      "iteration: 15 of max_iter: 30\n",
      "iteration: 16 of max_iter: 30\n",
      "iteration: 17 of max_iter: 30\n",
      "iteration: 18 of max_iter: 30\n",
      "iteration: 19 of max_iter: 30\n",
      "iteration: 20 of max_iter: 30\n",
      "iteration: 21 of max_iter: 30\n",
      "iteration: 22 of max_iter: 30\n",
      "iteration: 23 of max_iter: 30\n",
      "iteration: 24 of max_iter: 30\n",
      "iteration: 25 of max_iter: 30\n",
      "iteration: 26 of max_iter: 30\n",
      "iteration: 27 of max_iter: 30\n",
      "iteration: 28 of max_iter: 30\n",
      "iteration: 29 of max_iter: 30\n",
      "iteration: 30 of max_iter: 30\n",
      "Время на инициализацию tf-idf с метрикой euclidean: 97.34620380401611 c\n"
     ]
    }
   ],
   "source": [
    "for metr in metrics:\n",
    "    start_time = time.time()\n",
    "    \n",
    "    count_vect_time = CountVectorizer(stop_words=stopwords, ngram_range=(1,3), min_df=0.01)\n",
    "    dataset_time_time = count_vect.fit_transform(train_data)\n",
    "    lda_time = LatentDirichletAllocation(n_components = 60,max_iter=30,n_jobs=6,learning_method='batch')\n",
    "    ldamatrix_time = lda.fit_transform(dataset)\n",
    "    cosine_sim2_time = pairwise_distances(ldamatrix, metric=metr)\n",
    "\n",
    "    end_time = time.time()\n",
    "    e_time = (end_time - start_time)\n",
    "    print(\"Время на инициализацию tf-idf с метрикой {}: {} c\".format(metr, e_time))"
   ]
  },
  {
   "cell_type": "code",
   "execution_count": null,
   "id": "2d65bec5",
   "metadata": {},
   "outputs": [],
   "source": []
  }
 ],
 "metadata": {
  "kernelspec": {
   "display_name": "Python 3 (ipykernel)",
   "language": "python",
   "name": "python3"
  },
  "language_info": {
   "codemirror_mode": {
    "name": "ipython",
    "version": 3
   },
   "file_extension": ".py",
   "mimetype": "text/x-python",
   "name": "python",
   "nbconvert_exporter": "python",
   "pygments_lexer": "ipython3",
   "version": "3.9.13"
  },
  "papermill": {
   "default_parameters": {},
   "duration": 38.531303,
   "end_time": "2023-03-20T17:16:47.097250",
   "environment_variables": {},
   "exception": null,
   "input_path": "__notebook__.ipynb",
   "output_path": "__notebook__.ipynb",
   "parameters": {},
   "start_time": "2023-03-20T17:16:08.565947",
   "version": "2.3.4"
  }
 },
 "nbformat": 4,
 "nbformat_minor": 5
}
