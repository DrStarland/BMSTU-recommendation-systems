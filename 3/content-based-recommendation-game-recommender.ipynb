{
 "cells": [
  {
   "cell_type": "code",
   "execution_count": 21,
   "id": "12ebdb56",
   "metadata": {
    "_cell_guid": "b1076dfc-b9ad-4769-8c92-a6c4dae69d19",
    "_uuid": "8f2839f25d086af736a60e9eeb907d3b93b6e0e5",
    "execution": {
     "iopub.execute_input": "2023-03-20T17:16:20.970081Z",
     "iopub.status.busy": "2023-03-20T17:16:20.969491Z",
     "iopub.status.idle": "2023-03-20T17:16:22.358706Z",
     "shell.execute_reply": "2023-03-20T17:16:22.357149Z"
    },
    "papermill": {
     "duration": 1.404223,
     "end_time": "2023-03-20T17:16:22.362306",
     "exception": false,
     "start_time": "2023-03-20T17:16:20.958083",
     "status": "completed"
    },
    "tags": []
   },
   "outputs": [],
   "source": [
    "import numpy as np\n",
    "import pandas as pd\n",
    "import nltk\n",
    "\n",
    "from sklearn.feature_extraction.text import TfidfVectorizer\n",
    "from sklearn.feature_extraction.text import CountVectorizer\n",
    "from sklearn.decomposition import LatentDirichletAllocation\n",
    "from sklearn.metrics.pairwise import cosine_similarity\n",
    "\n",
    "# pd.set_option('display.max_columns', None)\n",
    "# pd.set_option('display.width', 500)\n",
    "# pd.set_option('display.expand_frame_repr', False)"
   ]
  },
  {
   "cell_type": "markdown",
   "id": "4de4427c",
   "metadata": {
    "papermill": {
     "duration": 0.003786,
     "end_time": "2023-03-20T17:16:22.370771",
     "exception": false,
     "start_time": "2023-03-20T17:16:22.366985",
     "status": "completed"
    },
    "tags": []
   },
   "source": [
    "\n",
    "# STEAM GAME RECOMMENDER\n",
    "**(Content Based Recommendation)**"
   ]
  },
  {
   "cell_type": "code",
   "execution_count": 2,
   "id": "b6280c79",
   "metadata": {
    "execution": {
     "iopub.execute_input": "2023-03-20T17:16:22.383582Z",
     "iopub.status.busy": "2023-03-20T17:16:22.383110Z",
     "iopub.status.idle": "2023-03-20T17:16:25.154160Z",
     "shell.execute_reply": "2023-03-20T17:16:25.152603Z"
    },
    "papermill": {
     "duration": 2.780123,
     "end_time": "2023-03-20T17:16:25.157526",
     "exception": false,
     "start_time": "2023-03-20T17:16:22.377403",
     "status": "completed"
    },
    "tags": []
   },
   "outputs": [
    {
     "data": {
      "text/html": [
       "<div>\n",
       "<style scoped>\n",
       "    .dataframe tbody tr th:only-of-type {\n",
       "        vertical-align: middle;\n",
       "    }\n",
       "\n",
       "    .dataframe tbody tr th {\n",
       "        vertical-align: top;\n",
       "    }\n",
       "\n",
       "    .dataframe thead th {\n",
       "        text-align: right;\n",
       "    }\n",
       "</style>\n",
       "<table border=\"1\" class=\"dataframe\">\n",
       "  <thead>\n",
       "    <tr style=\"text-align: right;\">\n",
       "      <th></th>\n",
       "      <th>url</th>\n",
       "      <th>types</th>\n",
       "      <th>name</th>\n",
       "      <th>desc_snippet</th>\n",
       "      <th>recent_reviews</th>\n",
       "      <th>all_reviews</th>\n",
       "      <th>release_date</th>\n",
       "      <th>developer</th>\n",
       "      <th>publisher</th>\n",
       "      <th>popular_tags</th>\n",
       "      <th>game_details</th>\n",
       "      <th>languages</th>\n",
       "      <th>achievements</th>\n",
       "      <th>genre</th>\n",
       "      <th>game_description</th>\n",
       "      <th>mature_content</th>\n",
       "      <th>minimum_requirements</th>\n",
       "      <th>recommended_requirements</th>\n",
       "      <th>original_price</th>\n",
       "      <th>discount_price</th>\n",
       "    </tr>\n",
       "  </thead>\n",
       "  <tbody>\n",
       "    <tr>\n",
       "      <th>0</th>\n",
       "      <td>https://store.steampowered.com/app/379720/DOOM/</td>\n",
       "      <td>app</td>\n",
       "      <td>DOOM</td>\n",
       "      <td>Now includes all three premium DLC packs (Unto...</td>\n",
       "      <td>Very Positive,(554),- 89% of the 554 user revi...</td>\n",
       "      <td>Very Positive,(42,550),- 92% of the 42,550 use...</td>\n",
       "      <td>May 12, 2016</td>\n",
       "      <td>id Software</td>\n",
       "      <td>Bethesda Softworks,Bethesda Softworks</td>\n",
       "      <td>FPS,Gore,Action,Demons,Shooter,First-Person,Gr...</td>\n",
       "      <td>Single-player,Multi-player,Co-op,Steam Achieve...</td>\n",
       "      <td>English,French,Italian,German,Spanish - Spain,...</td>\n",
       "      <td>54.0</td>\n",
       "      <td>Action</td>\n",
       "      <td>About This Game Developed by id software, the...</td>\n",
       "      <td>NaN</td>\n",
       "      <td>Minimum:,OS:,Windows 7/8.1/10 (64-bit versions...</td>\n",
       "      <td>Recommended:,OS:,Windows 7/8.1/10 (64-bit vers...</td>\n",
       "      <td>$19.99</td>\n",
       "      <td>$14.99</td>\n",
       "    </tr>\n",
       "    <tr>\n",
       "      <th>1</th>\n",
       "      <td>https://store.steampowered.com/app/578080/PLAY...</td>\n",
       "      <td>app</td>\n",
       "      <td>PLAYERUNKNOWN'S BATTLEGROUNDS</td>\n",
       "      <td>PLAYERUNKNOWN'S BATTLEGROUNDS is a battle roya...</td>\n",
       "      <td>Mixed,(6,214),- 49% of the 6,214 user reviews ...</td>\n",
       "      <td>Mixed,(836,608),- 49% of the 836,608 user revi...</td>\n",
       "      <td>Dec 21, 2017</td>\n",
       "      <td>PUBG Corporation</td>\n",
       "      <td>PUBG Corporation,PUBG Corporation</td>\n",
       "      <td>Survival,Shooter,Multiplayer,Battle Royale,PvP...</td>\n",
       "      <td>Multi-player,Online Multi-Player,Stats</td>\n",
       "      <td>English,Korean,Simplified Chinese,French,Germa...</td>\n",
       "      <td>37.0</td>\n",
       "      <td>Action,Adventure,Massively Multiplayer</td>\n",
       "      <td>About This Game  PLAYERUNKNOWN'S BATTLEGROUND...</td>\n",
       "      <td>Mature Content Description  The developers de...</td>\n",
       "      <td>Minimum:,Requires a 64-bit processor and opera...</td>\n",
       "      <td>Recommended:,Requires a 64-bit processor and o...</td>\n",
       "      <td>$29.99</td>\n",
       "      <td>NaN</td>\n",
       "    </tr>\n",
       "  </tbody>\n",
       "</table>\n",
       "</div>"
      ],
      "text/plain": [
       "                                                 url types  \\\n",
       "0    https://store.steampowered.com/app/379720/DOOM/   app   \n",
       "1  https://store.steampowered.com/app/578080/PLAY...   app   \n",
       "\n",
       "                            name  \\\n",
       "0                           DOOM   \n",
       "1  PLAYERUNKNOWN'S BATTLEGROUNDS   \n",
       "\n",
       "                                        desc_snippet  \\\n",
       "0  Now includes all three premium DLC packs (Unto...   \n",
       "1  PLAYERUNKNOWN'S BATTLEGROUNDS is a battle roya...   \n",
       "\n",
       "                                      recent_reviews  \\\n",
       "0  Very Positive,(554),- 89% of the 554 user revi...   \n",
       "1  Mixed,(6,214),- 49% of the 6,214 user reviews ...   \n",
       "\n",
       "                                         all_reviews  release_date  \\\n",
       "0  Very Positive,(42,550),- 92% of the 42,550 use...  May 12, 2016   \n",
       "1  Mixed,(836,608),- 49% of the 836,608 user revi...  Dec 21, 2017   \n",
       "\n",
       "          developer                              publisher  \\\n",
       "0       id Software  Bethesda Softworks,Bethesda Softworks   \n",
       "1  PUBG Corporation      PUBG Corporation,PUBG Corporation   \n",
       "\n",
       "                                        popular_tags  \\\n",
       "0  FPS,Gore,Action,Demons,Shooter,First-Person,Gr...   \n",
       "1  Survival,Shooter,Multiplayer,Battle Royale,PvP...   \n",
       "\n",
       "                                        game_details  \\\n",
       "0  Single-player,Multi-player,Co-op,Steam Achieve...   \n",
       "1             Multi-player,Online Multi-Player,Stats   \n",
       "\n",
       "                                           languages  achievements  \\\n",
       "0  English,French,Italian,German,Spanish - Spain,...          54.0   \n",
       "1  English,Korean,Simplified Chinese,French,Germa...          37.0   \n",
       "\n",
       "                                    genre  \\\n",
       "0                                  Action   \n",
       "1  Action,Adventure,Massively Multiplayer   \n",
       "\n",
       "                                    game_description  \\\n",
       "0   About This Game Developed by id software, the...   \n",
       "1   About This Game  PLAYERUNKNOWN'S BATTLEGROUND...   \n",
       "\n",
       "                                      mature_content  \\\n",
       "0                                                NaN   \n",
       "1   Mature Content Description  The developers de...   \n",
       "\n",
       "                                minimum_requirements  \\\n",
       "0  Minimum:,OS:,Windows 7/8.1/10 (64-bit versions...   \n",
       "1  Minimum:,Requires a 64-bit processor and opera...   \n",
       "\n",
       "                            recommended_requirements original_price  \\\n",
       "0  Recommended:,OS:,Windows 7/8.1/10 (64-bit vers...         $19.99   \n",
       "1  Recommended:,Requires a 64-bit processor and o...         $29.99   \n",
       "\n",
       "  discount_price  \n",
       "0         $14.99  \n",
       "1            NaN  "
      ]
     },
     "execution_count": 2,
     "metadata": {},
     "output_type": "execute_result"
    }
   ],
   "source": [
    "df = pd.read_csv(\"./steam_games.csv\")\n",
    "df.head(2)"
   ]
  },
  {
   "cell_type": "code",
   "execution_count": 3,
   "id": "2c55a6da",
   "metadata": {
    "execution": {
     "iopub.execute_input": "2023-03-20T17:16:25.169565Z",
     "iopub.status.busy": "2023-03-20T17:16:25.169095Z",
     "iopub.status.idle": "2023-03-20T17:16:25.252240Z",
     "shell.execute_reply": "2023-03-20T17:16:25.250396Z"
    },
    "papermill": {
     "duration": 0.092529,
     "end_time": "2023-03-20T17:16:25.255061",
     "exception": false,
     "start_time": "2023-03-20T17:16:25.162532",
     "status": "completed"
    },
    "tags": []
   },
   "outputs": [
    {
     "name": "stdout",
     "output_type": "stream",
     "text": [
      "<class 'pandas.core.frame.DataFrame'>\n",
      "RangeIndex: 40833 entries, 0 to 40832\n",
      "Data columns (total 20 columns):\n",
      " #   Column                    Non-Null Count  Dtype  \n",
      "---  ------                    --------------  -----  \n",
      " 0   url                       40833 non-null  object \n",
      " 1   types                     40831 non-null  object \n",
      " 2   name                      40817 non-null  object \n",
      " 3   desc_snippet              27612 non-null  object \n",
      " 4   recent_reviews            2706 non-null   object \n",
      " 5   all_reviews               28470 non-null  object \n",
      " 6   release_date              37654 non-null  object \n",
      " 7   developer                 40490 non-null  object \n",
      " 8   publisher                 35733 non-null  object \n",
      " 9   popular_tags              37888 non-null  object \n",
      " 10  game_details              40313 non-null  object \n",
      " 11  languages                 40797 non-null  object \n",
      " 12  achievements              12194 non-null  float64\n",
      " 13  genre                     40395 non-null  object \n",
      " 14  game_description          37920 non-null  object \n",
      " 15  mature_content            2897 non-null   object \n",
      " 16  minimum_requirements      21069 non-null  object \n",
      " 17  recommended_requirements  21075 non-null  object \n",
      " 18  original_price            35522 non-null  object \n",
      " 19  discount_price            14543 non-null  object \n",
      "dtypes: float64(1), object(19)\n",
      "memory usage: 6.2+ MB\n"
     ]
    }
   ],
   "source": [
    "df.info()"
   ]
  },
  {
   "cell_type": "code",
   "execution_count": 4,
   "id": "e53b1904",
   "metadata": {
    "execution": {
     "iopub.execute_input": "2023-03-20T17:16:25.267662Z",
     "iopub.status.busy": "2023-03-20T17:16:25.267208Z",
     "iopub.status.idle": "2023-03-20T17:16:25.310278Z",
     "shell.execute_reply": "2023-03-20T17:16:25.308893Z"
    },
    "papermill": {
     "duration": 0.052661,
     "end_time": "2023-03-20T17:16:25.313271",
     "exception": false,
     "start_time": "2023-03-20T17:16:25.260610",
     "status": "completed"
    },
    "tags": []
   },
   "outputs": [
    {
     "name": "stdout",
     "output_type": "stream",
     "text": [
      "<class 'pandas.core.frame.DataFrame'>\n",
      "RangeIndex: 40833 entries, 0 to 40832\n",
      "Data columns (total 5 columns):\n",
      " #   Column            Non-Null Count  Dtype \n",
      "---  ------            --------------  ----- \n",
      " 0   name              40833 non-null  object\n",
      " 1   desc_snippet      40833 non-null  object\n",
      " 2   game_description  40833 non-null  object\n",
      " 3   popular_tags      40833 non-null  object\n",
      " 4   genre             40833 non-null  object\n",
      "dtypes: object(5)\n",
      "memory usage: 1.6+ MB\n"
     ]
    }
   ],
   "source": [
    "df1 = df[[\"name\", \"desc_snippet\", \"game_description\", \"popular_tags\",\"genre\"]]\n",
    "df2 = pd.DataFrame(df1.fillna(\"\"))\n",
    "\n",
    "df2.head(5)\n",
    "df2.info()"
   ]
  },
  {
   "cell_type": "code",
   "execution_count": 5,
   "id": "915f4ea1",
   "metadata": {},
   "outputs": [
    {
     "name": "stderr",
     "output_type": "stream",
     "text": [
      "[nltk_data] Downloading package stopwords to\n",
      "[nltk_data]     C:\\Users\\vikto\\AppData\\Roaming\\nltk_data...\n",
      "[nltk_data]   Package stopwords is already up-to-date!\n"
     ]
    },
    {
     "data": {
      "text/plain": [
       "True"
      ]
     },
     "execution_count": 5,
     "metadata": {},
     "output_type": "execute_result"
    }
   ],
   "source": [
    "nltk.download('stopwords')"
   ]
  },
  {
   "cell_type": "code",
   "execution_count": 6,
   "id": "dd57cccd",
   "metadata": {},
   "outputs": [
    {
     "data": {
      "text/plain": [
       "['i',\n",
       " 'me',\n",
       " 'my',\n",
       " 'myself',\n",
       " 'we',\n",
       " 'our',\n",
       " 'ours',\n",
       " 'ourselves',\n",
       " 'you',\n",
       " \"you're\",\n",
       " \"you've\",\n",
       " \"you'll\",\n",
       " \"you'd\",\n",
       " 'your',\n",
       " 'yours',\n",
       " 'yourself',\n",
       " 'yourselves',\n",
       " 'he',\n",
       " 'him',\n",
       " 'his',\n",
       " 'himself',\n",
       " 'she',\n",
       " \"she's\",\n",
       " 'her',\n",
       " 'hers',\n",
       " 'herself',\n",
       " 'it',\n",
       " \"it's\",\n",
       " 'its',\n",
       " 'itself',\n",
       " 'they',\n",
       " 'them',\n",
       " 'their',\n",
       " 'theirs',\n",
       " 'themselves',\n",
       " 'what',\n",
       " 'which',\n",
       " 'who',\n",
       " 'whom',\n",
       " 'this',\n",
       " 'that',\n",
       " \"that'll\",\n",
       " 'these',\n",
       " 'those',\n",
       " 'am',\n",
       " 'is',\n",
       " 'are',\n",
       " 'was',\n",
       " 'were',\n",
       " 'be',\n",
       " 'been',\n",
       " 'being',\n",
       " 'have',\n",
       " 'has',\n",
       " 'had',\n",
       " 'having',\n",
       " 'do',\n",
       " 'does',\n",
       " 'did',\n",
       " 'doing',\n",
       " 'a',\n",
       " 'an',\n",
       " 'the',\n",
       " 'and',\n",
       " 'but',\n",
       " 'if',\n",
       " 'or',\n",
       " 'because',\n",
       " 'as',\n",
       " 'until',\n",
       " 'while',\n",
       " 'of',\n",
       " 'at',\n",
       " 'by',\n",
       " 'for',\n",
       " 'with',\n",
       " 'about',\n",
       " 'against',\n",
       " 'between',\n",
       " 'into',\n",
       " 'through',\n",
       " 'during',\n",
       " 'before',\n",
       " 'after',\n",
       " 'above',\n",
       " 'below',\n",
       " 'to',\n",
       " 'from',\n",
       " 'up',\n",
       " 'down',\n",
       " 'in',\n",
       " 'out',\n",
       " 'on',\n",
       " 'off',\n",
       " 'over',\n",
       " 'under',\n",
       " 'again',\n",
       " 'further',\n",
       " 'then',\n",
       " 'once',\n",
       " 'here',\n",
       " 'there',\n",
       " 'when',\n",
       " 'where',\n",
       " 'why',\n",
       " 'how',\n",
       " 'all',\n",
       " 'any',\n",
       " 'both',\n",
       " 'each',\n",
       " 'few',\n",
       " 'more',\n",
       " 'most',\n",
       " 'other',\n",
       " 'some',\n",
       " 'such',\n",
       " 'no',\n",
       " 'nor',\n",
       " 'not',\n",
       " 'only',\n",
       " 'own',\n",
       " 'same',\n",
       " 'so',\n",
       " 'than',\n",
       " 'too',\n",
       " 'very',\n",
       " 's',\n",
       " 't',\n",
       " 'can',\n",
       " 'will',\n",
       " 'just',\n",
       " 'don',\n",
       " \"don't\",\n",
       " 'should',\n",
       " \"should've\",\n",
       " 'now',\n",
       " 'd',\n",
       " 'll',\n",
       " 'm',\n",
       " 'o',\n",
       " 're',\n",
       " 've',\n",
       " 'y',\n",
       " 'ain',\n",
       " 'aren',\n",
       " \"aren't\",\n",
       " 'couldn',\n",
       " \"couldn't\",\n",
       " 'didn',\n",
       " \"didn't\",\n",
       " 'doesn',\n",
       " \"doesn't\",\n",
       " 'hadn',\n",
       " \"hadn't\",\n",
       " 'hasn',\n",
       " \"hasn't\",\n",
       " 'haven',\n",
       " \"haven't\",\n",
       " 'isn',\n",
       " \"isn't\",\n",
       " 'ma',\n",
       " 'mightn',\n",
       " \"mightn't\",\n",
       " 'mustn',\n",
       " \"mustn't\",\n",
       " 'needn',\n",
       " \"needn't\",\n",
       " 'shan',\n",
       " \"shan't\",\n",
       " 'shouldn',\n",
       " \"shouldn't\",\n",
       " 'wasn',\n",
       " \"wasn't\",\n",
       " 'weren',\n",
       " \"weren't\",\n",
       " 'won',\n",
       " \"won't\",\n",
       " 'wouldn',\n",
       " \"wouldn't\"]"
      ]
     },
     "execution_count": 6,
     "metadata": {},
     "output_type": "execute_result"
    }
   ],
   "source": [
    "stopwords = nltk.corpus.stopwords.words('english')\n",
    "stopwords\n",
    "# stop_extensions = ['']\n",
    "# stopwords.extend(stop_extensions)"
   ]
  },
  {
   "cell_type": "code",
   "execution_count": 7,
   "id": "52dab192",
   "metadata": {
    "execution": {
     "iopub.execute_input": "2023-03-20T17:16:25.325395Z",
     "iopub.status.busy": "2023-03-20T17:16:25.324922Z",
     "iopub.status.idle": "2023-03-20T17:16:29.404843Z",
     "shell.execute_reply": "2023-03-20T17:16:29.403589Z"
    },
    "papermill": {
     "duration": 4.089086,
     "end_time": "2023-03-20T17:16:29.407506",
     "exception": false,
     "start_time": "2023-03-20T17:16:25.318420",
     "status": "completed"
    },
    "tags": []
   },
   "outputs": [],
   "source": [
    "tfidf = TfidfVectorizer(\n",
    "                     use_idf=True,\n",
    "                     min_df=0.01,\n",
    "                     ngram_range=(1,3),\n",
    "                     stop_words=stopwords\n",
    "                    )\n",
    "\n",
    "# объединяем столбики с описаниями, чтобы получить больше информации о каждой игре и обработать тфидф-ом\n",
    "tfidf_matrix = tfidf.fit_transform(df2[\"desc_snippet\"] + \"\\n\" + df2[\"game_description\"])"
   ]
  },
  {
   "cell_type": "code",
   "execution_count": 23,
   "id": "46735186",
   "metadata": {},
   "outputs": [],
   "source": [
    "count_vect = CountVectorizer(stop_words=stopwords)\n",
    "\n",
    "dataset = count_vect.fit_transform(df2[\"desc_snippet\"] + \"\\n\" + df2[\"game_description\"])"
   ]
  },
  {
   "cell_type": "code",
   "execution_count": 25,
   "id": "417f7f16",
   "metadata": {
    "collapsed": true
   },
   "outputs": [
    {
     "name": "stdout",
     "output_type": "stream",
     "text": [
      "iteration: 1 of max_iter: 30\n",
      "iteration: 2 of max_iter: 30\n",
      "iteration: 3 of max_iter: 30\n",
      "iteration: 4 of max_iter: 30\n",
      "iteration: 5 of max_iter: 30\n",
      "iteration: 6 of max_iter: 30\n",
      "iteration: 7 of max_iter: 30\n",
      "iteration: 8 of max_iter: 30\n",
      "iteration: 9 of max_iter: 30\n",
      "iteration: 10 of max_iter: 30\n",
      "iteration: 11 of max_iter: 30\n",
      "iteration: 12 of max_iter: 30\n",
      "iteration: 13 of max_iter: 30\n",
      "iteration: 14 of max_iter: 30\n",
      "iteration: 15 of max_iter: 30\n",
      "iteration: 16 of max_iter: 30\n",
      "iteration: 17 of max_iter: 30\n",
      "iteration: 18 of max_iter: 30\n",
      "iteration: 19 of max_iter: 30\n",
      "iteration: 20 of max_iter: 30\n",
      "iteration: 21 of max_iter: 30\n",
      "iteration: 22 of max_iter: 30\n",
      "iteration: 23 of max_iter: 30\n",
      "iteration: 24 of max_iter: 30\n",
      "iteration: 25 of max_iter: 30\n",
      "iteration: 26 of max_iter: 30\n",
      "iteration: 27 of max_iter: 30\n",
      "iteration: 28 of max_iter: 30\n",
      "iteration: 29 of max_iter: 30\n",
      "iteration: 30 of max_iter: 30\n"
     ]
    },
    {
     "data": {
      "text/plain": [
       "LatentDirichletAllocation(max_iter=30, n_components=60, n_jobs=6, verbose=1)"
      ]
     },
     "execution_count": 25,
     "metadata": {},
     "output_type": "execute_result"
    }
   ],
   "source": [
    "lda = LatentDirichletAllocation(n_components = 60,\n",
    "                 max_iter=30,\n",
    "                 n_jobs=6,\n",
    "                 learning_method='batch',\n",
    "                 verbose=1)\n",
    "lda.fit(dataset)\n",
    "\n",
    "# lda = LatentDirichletAllocation(n_components=5, random_state=0)\n",
    "\n",
    "# lda_matrix = lda.fit_transform(df2[\"desc_snippet\"] + \"\\n\" + df2[\"game_description\"])"
   ]
  },
  {
   "cell_type": "code",
   "execution_count": 35,
   "id": "794c4a3e",
   "metadata": {},
   "outputs": [
    {
     "data": {
      "text/plain": [
       "(40833, 60)"
      ]
     },
     "execution_count": 35,
     "metadata": {},
     "output_type": "execute_result"
    }
   ],
   "source": [
    "hm = lda.transform(dataset)\n",
    "hm.shape"
   ]
  },
  {
   "cell_type": "code",
   "execution_count": 36,
   "id": "72b5cbc1",
   "metadata": {},
   "outputs": [],
   "source": [
    "cosine_sim = cosine_similarity(hm,\n",
    "        hm)"
   ]
  },
  {
   "cell_type": "code",
   "execution_count": 37,
   "id": "f08cb01e",
   "metadata": {},
   "outputs": [
    {
     "data": {
      "text/plain": [
       "(40833, 40833)"
      ]
     },
     "execution_count": 37,
     "metadata": {},
     "output_type": "execute_result"
    }
   ],
   "source": [
    "cosine_sim.shape"
   ]
  },
  {
   "cell_type": "code",
   "execution_count": 31,
   "id": "6d0e4364",
   "metadata": {
    "execution": {
     "iopub.execute_input": "2023-03-20T17:16:31.515633Z",
     "iopub.status.busy": "2023-03-20T17:16:31.515201Z",
     "iopub.status.idle": "2023-03-20T17:16:45.609944Z",
     "shell.execute_reply": "2023-03-20T17:16:45.608990Z"
    },
    "papermill": {
     "duration": 14.104314,
     "end_time": "2023-03-20T17:16:45.612759",
     "exception": false,
     "start_time": "2023-03-20T17:16:31.508445",
     "status": "completed"
    },
    "tags": []
   },
   "outputs": [
    {
     "data": {
      "text/plain": [
       "(40833, 40833)"
      ]
     },
     "execution_count": 31,
     "metadata": {},
     "output_type": "execute_result"
    }
   ],
   "source": [
    "cosine_sim = cosine_similarity(tfidf_matrix,\n",
    "                               tfidf_matrix)\n",
    "\n",
    "cosine_sim.shape"
   ]
  },
  {
   "cell_type": "code",
   "execution_count": 10,
   "id": "0f93d5d9",
   "metadata": {
    "execution": {
     "iopub.execute_input": "2023-03-20T17:16:45.680041Z",
     "iopub.status.busy": "2023-03-20T17:16:45.679523Z",
     "iopub.status.idle": "2023-03-20T17:16:45.687734Z",
     "shell.execute_reply": "2023-03-20T17:16:45.686042Z"
    },
    "papermill": {
     "duration": 0.018704,
     "end_time": "2023-03-20T17:16:45.690928",
     "exception": false,
     "start_time": "2023-03-20T17:16:45.672224",
     "status": "completed"
    },
    "tags": []
   },
   "outputs": [],
   "source": [
    "def steam_game_recommender(title, cosine_sim, dataframe):\n",
    "    indices = pd.Series(dataframe.index, index=dataframe['name'])\n",
    "    indices = indices[~indices.index.duplicated(keep='last')]\n",
    "    game_index = indices[title]\n",
    "    similarity_scores = pd.DataFrame(cosine_sim[game_index], columns=[\"score\"])\n",
    "    game_indices = similarity_scores.sort_values(\"score\", ascending=False)[1:11].index\n",
    "    return dataframe['name'].iloc[game_indices]"
   ]
  },
  {
   "cell_type": "code",
   "execution_count": 11,
   "id": "37fed452",
   "metadata": {},
   "outputs": [
    {
     "data": {
      "text/plain": [
       "28071                       Urban Empire\n",
       "40029                       Metropolisim\n",
       "20650                  Road to your City\n",
       "29981    City Of Jade: Imperial Frontier\n",
       "3879              Holyday City: Reloaded\n",
       "36582                        Living Dark\n",
       "3495            Constructor Classic 1997\n",
       "6915                   25 Cadre of Death\n",
       "27116                     City Life 2008\n",
       "808                        The Long Dark\n",
       "Name: name, dtype: object"
      ]
     },
     "execution_count": 11,
     "metadata": {},
     "output_type": "execute_result"
    }
   ],
   "source": [
    "steam_game_recommender(\"Frostpunk\", cosine_sim, df2)"
   ]
  },
  {
   "cell_type": "code",
   "execution_count": 12,
   "id": "4bc5504d",
   "metadata": {
    "execution": {
     "iopub.execute_input": "2023-03-20T17:16:45.704428Z",
     "iopub.status.busy": "2023-03-20T17:16:45.703996Z",
     "iopub.status.idle": "2023-03-20T17:16:45.725604Z",
     "shell.execute_reply": "2023-03-20T17:16:45.723817Z"
    },
    "papermill": {
     "duration": 0.032797,
     "end_time": "2023-03-20T17:16:45.729237",
     "exception": false,
     "start_time": "2023-03-20T17:16:45.696440",
     "status": "completed"
    },
    "scrolled": true,
    "tags": []
   },
   "outputs": [
    {
     "data": {
      "text/plain": [
       "39323                             Icarus Online\n",
       "639                                     Elsword\n",
       "4065                               CABAL Online\n",
       "37406                             Star Sonata 2\n",
       "24979                                  Millidor\n",
       "40463                           Legends of Aria\n",
       "27049    Shroud of the Avatar: Forsaken Virtues\n",
       "26309                                  StarMade\n",
       "40739                           CSC | Space MMO\n",
       "336                                  Brawlhalla\n",
       "Name: name, dtype: object"
      ]
     },
     "execution_count": 12,
     "metadata": {},
     "output_type": "execute_result"
    }
   ],
   "source": [
    "steam_game_recommender(\"EVE Online\", cosine_sim, df2)"
   ]
  },
  {
   "cell_type": "code",
   "execution_count": 13,
   "id": "f263b72a",
   "metadata": {
    "execution": {
     "iopub.execute_input": "2023-03-20T17:16:45.742468Z",
     "iopub.status.busy": "2023-03-20T17:16:45.742040Z",
     "iopub.status.idle": "2023-03-20T17:16:45.763660Z",
     "shell.execute_reply": "2023-03-20T17:16:45.762423Z"
    },
    "papermill": {
     "duration": 0.031079,
     "end_time": "2023-03-20T17:16:45.766006",
     "exception": false,
     "start_time": "2023-03-20T17:16:45.734927",
     "status": "completed"
    },
    "tags": []
   },
   "outputs": [
    {
     "data": {
      "text/plain": [
       "24357                          Hurricane\n",
       "9335              ICY: Frostbite Edition\n",
       "39787                             Nostos\n",
       "433                           Miscreated\n",
       "3901     Dinosaurs Prehistoric Survivors\n",
       "2420              Infestation: The New Z\n",
       "40296               Survive the Blackout\n",
       "517                       XERA: Survival\n",
       "178                             The Isle\n",
       "2092                           The Crew™\n",
       "Name: name, dtype: object"
      ]
     },
     "execution_count": 13,
     "metadata": {},
     "output_type": "execute_result"
    }
   ],
   "source": [
    "steam_game_recommender(\"DayZ\", cosine_sim, df2)"
   ]
  },
  {
   "cell_type": "code",
   "execution_count": null,
   "id": "5b162e0d",
   "metadata": {},
   "outputs": [],
   "source": []
  },
  {
   "cell_type": "code",
   "execution_count": null,
   "id": "6d6a4f7d",
   "metadata": {},
   "outputs": [],
   "source": []
  }
 ],
 "metadata": {
  "kernelspec": {
   "display_name": "Python 3 (ipykernel)",
   "language": "python",
   "name": "python3"
  },
  "language_info": {
   "codemirror_mode": {
    "name": "ipython",
    "version": 3
   },
   "file_extension": ".py",
   "mimetype": "text/x-python",
   "name": "python",
   "nbconvert_exporter": "python",
   "pygments_lexer": "ipython3",
   "version": "3.9.13"
  },
  "papermill": {
   "default_parameters": {},
   "duration": 38.531303,
   "end_time": "2023-03-20T17:16:47.097250",
   "environment_variables": {},
   "exception": null,
   "input_path": "__notebook__.ipynb",
   "output_path": "__notebook__.ipynb",
   "parameters": {},
   "start_time": "2023-03-20T17:16:08.565947",
   "version": "2.3.4"
  }
 },
 "nbformat": 4,
 "nbformat_minor": 5
}
