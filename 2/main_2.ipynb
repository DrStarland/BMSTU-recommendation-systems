{
 "cells": [
  {
   "cell_type": "markdown",
   "id": "77c643e9",
   "metadata": {},
   "source": [
    "Датасет с фильмами: https://grouplens.org/datasets/movielens/"
   ]
  },
  {
   "cell_type": "code",
   "execution_count": 1,
   "id": "3b9f9fda",
   "metadata": {},
   "outputs": [
    {
     "name": "stdout",
     "output_type": "stream",
     "text": [
      "Количество пользователей: 610\n",
      "Количество фильмов: 9724\n",
      "Размерность датасета: (100836, 4)\n"
     ]
    },
    {
     "data": {
      "text/html": [
       "<div>\n",
       "<style scoped>\n",
       "    .dataframe tbody tr th:only-of-type {\n",
       "        vertical-align: middle;\n",
       "    }\n",
       "\n",
       "    .dataframe tbody tr th {\n",
       "        vertical-align: top;\n",
       "    }\n",
       "\n",
       "    .dataframe thead th {\n",
       "        text-align: right;\n",
       "    }\n",
       "</style>\n",
       "<table border=\"1\" class=\"dataframe\">\n",
       "  <thead>\n",
       "    <tr style=\"text-align: right;\">\n",
       "      <th></th>\n",
       "      <th>userId</th>\n",
       "      <th>movieId</th>\n",
       "      <th>rating</th>\n",
       "      <th>timestamp</th>\n",
       "    </tr>\n",
       "  </thead>\n",
       "  <tbody>\n",
       "    <tr>\n",
       "      <th>0</th>\n",
       "      <td>1</td>\n",
       "      <td>1</td>\n",
       "      <td>4.0</td>\n",
       "      <td>964982703</td>\n",
       "    </tr>\n",
       "    <tr>\n",
       "      <th>1</th>\n",
       "      <td>1</td>\n",
       "      <td>3</td>\n",
       "      <td>4.0</td>\n",
       "      <td>964981247</td>\n",
       "    </tr>\n",
       "    <tr>\n",
       "      <th>2</th>\n",
       "      <td>1</td>\n",
       "      <td>6</td>\n",
       "      <td>4.0</td>\n",
       "      <td>964982224</td>\n",
       "    </tr>\n",
       "    <tr>\n",
       "      <th>3</th>\n",
       "      <td>1</td>\n",
       "      <td>47</td>\n",
       "      <td>5.0</td>\n",
       "      <td>964983815</td>\n",
       "    </tr>\n",
       "    <tr>\n",
       "      <th>4</th>\n",
       "      <td>1</td>\n",
       "      <td>50</td>\n",
       "      <td>5.0</td>\n",
       "      <td>964982931</td>\n",
       "    </tr>\n",
       "  </tbody>\n",
       "</table>\n",
       "</div>"
      ],
      "text/plain": [
       "   userId  movieId  rating  timestamp\n",
       "0       1        1     4.0  964982703\n",
       "1       1        3     4.0  964981247\n",
       "2       1        6     4.0  964982224\n",
       "3       1       47     5.0  964983815\n",
       "4       1       50     5.0  964982931"
      ]
     },
     "execution_count": 1,
     "metadata": {},
     "output_type": "execute_result"
    }
   ],
   "source": [
    "import numpy as np\n",
    "import pandas as pd\n",
    "import time\n",
    "\n",
    "ratings_df = pd.read_csv('./ratings.csv')\n",
    "print('Количество пользователей: {}'.format(len(ratings_df['userId'].unique())))\n",
    "print('Количество фильмов: {}'.format(len(ratings_df['movieId'].unique())))\n",
    "print('Размерность датасета: {}'.format(ratings_df.shape))\n",
    "\n",
    "ratings_df.head()"
   ]
  },
  {
   "cell_type": "code",
   "execution_count": 2,
   "id": "28c6b212",
   "metadata": {},
   "outputs": [
    {
     "data": {
      "text/plain": [
       "(610, 9569)"
      ]
     },
     "execution_count": 2,
     "metadata": {},
     "output_type": "execute_result"
    }
   ],
   "source": [
    "# Отберём для тестирования часть набора и отмасштабируем для удобства идентификаторы фильмов так,\n",
    "# чтобы они начинались с 1 и заканчивались на n_movies:\n",
    "\n",
    "n = 100000\n",
    "ratings_df_sample = ratings_df[:n]\n",
    "\n",
    "n_users = len(ratings_df_sample['userId'].unique())\n",
    "n_movies = len(ratings_df_sample['movieId'].unique())\n",
    "(n_users, n_movies)\n"
   ]
  },
  {
   "cell_type": "code",
   "execution_count": 3,
   "id": "9acbe9b0",
   "metadata": {},
   "outputs": [
    {
     "name": "stderr",
     "output_type": "stream",
     "text": [
      "C:\\Users\\User\\AppData\\Local\\Temp\\ipykernel_10436\\3425480383.py:7: SettingWithCopyWarning: \n",
      "A value is trying to be set on a copy of a slice from a DataFrame.\n",
      "Try using .loc[row_indexer,col_indexer] = value instead\n",
      "\n",
      "See the caveats in the documentation: https://pandas.pydata.org/pandas-docs/stable/user_guide/indexing.html#returning-a-view-versus-a-copy\n",
      "  ratings_df_sample['movieId'] = ratings_df_sample['movieId'].apply(scale_movie_id)\n"
     ]
    },
    {
     "data": {
      "text/html": [
       "<div>\n",
       "<style scoped>\n",
       "    .dataframe tbody tr th:only-of-type {\n",
       "        vertical-align: middle;\n",
       "    }\n",
       "\n",
       "    .dataframe tbody tr th {\n",
       "        vertical-align: top;\n",
       "    }\n",
       "\n",
       "    .dataframe thead th {\n",
       "        text-align: right;\n",
       "    }\n",
       "</style>\n",
       "<table border=\"1\" class=\"dataframe\">\n",
       "  <thead>\n",
       "    <tr style=\"text-align: right;\">\n",
       "      <th></th>\n",
       "      <th>userId</th>\n",
       "      <th>movieId</th>\n",
       "      <th>rating</th>\n",
       "      <th>timestamp</th>\n",
       "    </tr>\n",
       "  </thead>\n",
       "  <tbody>\n",
       "    <tr>\n",
       "      <th>0</th>\n",
       "      <td>1</td>\n",
       "      <td>1</td>\n",
       "      <td>4.0</td>\n",
       "      <td>964982703</td>\n",
       "    </tr>\n",
       "    <tr>\n",
       "      <th>1</th>\n",
       "      <td>1</td>\n",
       "      <td>2</td>\n",
       "      <td>4.0</td>\n",
       "      <td>964981247</td>\n",
       "    </tr>\n",
       "    <tr>\n",
       "      <th>2</th>\n",
       "      <td>1</td>\n",
       "      <td>3</td>\n",
       "      <td>4.0</td>\n",
       "      <td>964982224</td>\n",
       "    </tr>\n",
       "    <tr>\n",
       "      <th>3</th>\n",
       "      <td>1</td>\n",
       "      <td>4</td>\n",
       "      <td>5.0</td>\n",
       "      <td>964983815</td>\n",
       "    </tr>\n",
       "    <tr>\n",
       "      <th>4</th>\n",
       "      <td>1</td>\n",
       "      <td>5</td>\n",
       "      <td>5.0</td>\n",
       "      <td>964982931</td>\n",
       "    </tr>\n",
       "  </tbody>\n",
       "</table>\n",
       "</div>"
      ],
      "text/plain": [
       "   userId  movieId  rating  timestamp\n",
       "0       1        1     4.0  964982703\n",
       "1       1        2     4.0  964981247\n",
       "2       1        3     4.0  964982224\n",
       "3       1        4     5.0  964983815\n",
       "4       1        5     5.0  964982931"
      ]
     },
     "execution_count": 3,
     "metadata": {},
     "output_type": "execute_result"
    }
   ],
   "source": [
    "movie_ids = ratings_df_sample['movieId'].unique()\n",
    "\n",
    "def scale_movie_id(movie_id):\n",
    "    scaled = np.where(movie_ids == movie_id)[0][0] + 1\n",
    "    return scaled\n",
    "\n",
    "ratings_df_sample['movieId'] = ratings_df_sample['movieId'].apply(scale_movie_id)\n",
    "ratings_df_sample.head()"
   ]
  },
  {
   "cell_type": "code",
   "execution_count": 4,
   "id": "74b6e339",
   "metadata": {},
   "outputs": [],
   "source": [
    "from sklearn.model_selection import train_test_split\n",
    "# обучающий и тестовый наборы\n",
    "train_data, test_data = train_test_split(ratings_df_sample, test_size=0.2)"
   ]
  },
  {
   "cell_type": "code",
   "execution_count": 5,
   "id": "52acee51",
   "metadata": {},
   "outputs": [],
   "source": [
    "from sklearn.metrics import mean_squared_error\n",
    "from sklearn.metrics import mean_absolute_percentage_error\n",
    "from math import sqrt\n",
    "\n",
    "# метрика RMSE (Root Mean Square Error, среднеквадратическая ошибка)\n",
    "\n",
    "def rmse(prediction, ground_truth):\n",
    "    # оставим оценки алгоритма только для соответствующего набора данных\n",
    "    prediction = np.nan_to_num(prediction)[ground_truth.nonzero()].flatten()\n",
    "    # оставим оценки пользователя только для соответствующего набора данных\n",
    "    ground_truth = np.nan_to_num(ground_truth)[ground_truth.nonzero()].flatten()\n",
    "    \n",
    "    mse = mean_squared_error(prediction, ground_truth)\n",
    "    return sqrt(mse)"
   ]
  },
  {
   "cell_type": "code",
   "execution_count": 6,
   "id": "af30e957",
   "metadata": {},
   "outputs": [],
   "source": [
    "# Сформируем матрицы размера (n_users, n_movies) для обучающего и тестового наборов, в которых\n",
    "# элемент в ячейке [i, j] отражает оценку i-го пользователя j-му фильму\n",
    "    \n",
    "train_data_matrix = np.zeros((n_users, n_movies))\n",
    "for line in train_data.itertuples():\n",
    "    train_data_matrix[line[1] - 1, line[2] - 1] = line[3]\n",
    "    \n",
    "test_data_matrix = np.zeros((n_users, n_movies))\n",
    "for line in test_data.itertuples():\n",
    "    test_data_matrix[line[1] - 1, line[2] - 1] = line[3]"
   ]
  },
  {
   "cell_type": "code",
   "execution_count": 7,
   "id": "bea08b70",
   "metadata": {},
   "outputs": [],
   "source": [
    "from  sklearn.metrics.pairwise import pairwise_distances\n",
    "# ключевое в алгоритме -- мера близости\n",
    "# считаем косинусное расстояние для пользователей и фильмов (построчно и поколоночно соотвественно)\n",
    "\n",
    "# Valid values for metric are:\n",
    "# [‘cityblock’, ‘cosine’, ‘euclidean’, ‘l1’, ‘l2’, ‘manhattan’]\n",
    "# [‘nan_euclidean’]\n",
    "# [‘braycurtis’, ‘canberra’, ‘chebyshev’, ‘correlation’, ‘dice’,\n",
    "#  ‘hamming’, ‘jaccard’, ‘kulsinski’, ‘mahalanobis’, ‘minkowski’,\n",
    "#  ‘rogerstanimoto’, ‘russellrao’, ‘seuclidean’, ‘sokalmichener’,\n",
    "#  ‘sokalsneath’, ‘sqeuclidean’, ‘yule’]\n",
    "\n",
    "# подходят евклидово, косинусное, корреляция \n",
    "\n",
    "user_similarity = pairwise_distances(train_data_matrix, metric='cosine')\n",
    "item_similarity = pairwise_distances(train_data_matrix.T, metric='cosine')"
   ]
  },
  {
   "cell_type": "code",
   "execution_count": 8,
   "id": "d28fe1ac",
   "metadata": {},
   "outputs": [
    {
     "name": "stdout",
     "output_type": "stream",
     "text": [
      "Основанная на пользователях фильтрация, RMSE:  2.7619432850579213\n"
     ]
    }
   ],
   "source": [
    "# User-based collaborative filtering\n",
    "def predict_user(top):\n",
    "    # Структура для хранения для каждого пользователя оценки фильмов top наиболее похожих на него пользователей:\n",
    "    # top_similar_ratings[0][1] - оценки всех фильмов одного из наиболее похожих пользователей на пользователя с ид 0.\n",
    "    # Здесь 1 - это не ид пользователя, а просто порядковый номер.\n",
    "    top_similar_ratings = np.zeros((n_users, top, n_movies))\n",
    "\n",
    "    for i in range(n_users):\n",
    "        # Для каждого пользователя необходимо получить наиболее похожих пользователей:\n",
    "        # Нулевой элемент не подходит, т.к. на этом месте находится похожесть пользователя самого на себя\n",
    "        top_sim_users = user_similarity[i].argsort()[1:top + 1]\n",
    "        # берём только оценки из \"обучающей\" выборки \n",
    "        top_similar_ratings[i] = train_data_matrix[top_sim_users]\n",
    "\n",
    "    pred = np.zeros((n_users, n_movies))\n",
    "    for i in range(n_users):\n",
    "        pred[i] = top_similar_ratings[i].sum(axis=0) / top\n",
    "    \n",
    "    return pred\n",
    "\n",
    "pred_user = predict_user(9)\n",
    "print('Основанная на пользователях фильтрация, RMSE: ', rmse(pred_user, test_data_matrix))"
   ]
  },
  {
   "cell_type": "code",
   "execution_count": 9,
   "id": "e8423e9e",
   "metadata": {},
   "outputs": [
    {
     "name": "stdout",
     "output_type": "stream",
     "text": [
      "Основанная на пользователях фильтрация, RMSE:  2.9322275114684304\n"
     ]
    }
   ],
   "source": [
    "def predict_item(top):\n",
    "    top_similar_ratings = np.zeros((n_movies, top, n_users))\n",
    "\n",
    "    for i in range(n_movies):\n",
    "        top_sim_movies = item_similarity[i].argsort()[1:top + 1]\n",
    "        top_similar_ratings[i] = train_data_matrix.T[top_sim_movies]\n",
    "        \n",
    "    pred = np.zeros((n_movies, n_users))\n",
    "    for i in range(n_movies):\n",
    "        pred[i] = top_similar_ratings[i].sum(axis=0) / top\n",
    "    \n",
    "    return pred.T\n",
    "\n",
    "pred_item = predict_item(9)\n",
    "print('Основанная на пользователях фильтрация, RMSE: ', rmse(pred_item, test_data_matrix))"
   ]
  },
  {
   "cell_type": "code",
   "execution_count": null,
   "id": "f5c34acb",
   "metadata": {},
   "outputs": [],
   "source": [
    "import matplotlib.pyplot as plt\n",
    "\n",
    "%matplotlib inline"
   ]
  },
  {
   "cell_type": "code",
   "execution_count": null,
   "id": "aa806958",
   "metadata": {},
   "outputs": [],
   "source": [
    "axis_x = ['cosine', 'euclidean', 'correlation']\n",
    "graph1 = []\n",
    "graph2 = []\n",
    "graph01 = []\n",
    "graph02 = []\n",
    "\n",
    "for metr in axis_x:\n",
    "    start_time = time.time()\n",
    "    global user_similarity\n",
    "    user_similarity = pairwise_distances(train_data_matrix, metric=metr)\n",
    "    global item_similarity\n",
    "    item_similarity = pairwise_distances(train_data_matrix.T, metric=metr)\n",
    "    end_time = time.time()\n",
    "    e_time = (end_time - start_time)\n",
    "    print(\"Время на инициализацию с метрикой {}: {} c\".format(metr, e_time))\n",
    "    \n",
    "    e_time1 = 0\n",
    "    e_time2 = 0\n",
    "    \n",
    "    for i in range(10):\n",
    "        start_time = time.time()\n",
    "#         for i in range(0, 100):\n",
    "        predict_user(9)\n",
    "        end_time = time.time()\n",
    "        e_time1 += (end_time - start_time)\n",
    "        \n",
    "        start_time = time.time()\n",
    "#         for i in range(0, 100):\n",
    "        predict_item(9)\n",
    "        end_time = time.time()\n",
    "        e_time2 += (end_time - start_time)\n",
    "        \n",
    "    graph1.append(e_time1 / 10)\n",
    "    graph2.append(e_time2 / 10)\n",
    "    \n",
    "    pred_i = predict_item(9)\n",
    "    pred_u = predict_user(9)\n",
    "    \n",
    "    graph01.append(rmse(pred_u, test_data_matrix))\n",
    "    graph02.append(rmse(pred_i, test_data_matrix))\n",
    "\n",
    "plt.plot(axis_x, graph01, marker='s', color='r', label=\"по пользователям\");\n",
    "plt.plot(axis_x, graph02, marker='s', color='g', label=\"по предметам\");\n",
    "plt.legend()\n",
    "plt.xlabel('Метрика')\n",
    "plt.ylabel('Ошибка RMSE');"
   ]
  },
  {
   "cell_type": "code",
   "execution_count": null,
   "id": "f4465442",
   "metadata": {},
   "outputs": [],
   "source": [
    "plt.plot(axis_x, graph1, marker='s', color='r', label=\"по пользователям, c\");\n",
    "plt.plot(axis_x, graph2, marker='s', color='g', label=\"по предметам, c\");\n",
    "plt.legend()\n",
    "plt.xlabel('Метрика')\n",
    "plt.ylabel('Время');"
   ]
  },
  {
   "cell_type": "code",
   "execution_count": null,
   "id": "725ae8fd",
   "metadata": {},
   "outputs": [],
   "source": [
    "axis_x = ['cosine', 'euclidean', 'correlation']\n",
    "graph1 = []\n",
    "graph2 = []\n",
    "\n",
    "ns = [1000, 5000, 10000, 20000, 50000, 100000]\n",
    "\n",
    "for n in ns:\n",
    "    global train_data_matrix\n",
    "    global test_data_matrix\n",
    "    global item_similarity\n",
    "    global user_similarity\n",
    "    \n",
    "    ratings_df_sample = ratings_df[:n]\n",
    "    n_users = len(ratings_df_sample['userId'].unique())\n",
    "    n_movies = len(ratings_df_sample['movieId'].unique())\n",
    "    print(n_users, n_movies)\n",
    "    movie_ids = ratings_df_sample['movieId'].unique()\n",
    "    ratings_df_sample['movieId'] = ratings_df_sample['movieId'].apply(scale_movie_id)\n",
    "    train_data, test_data = train_test_split(ratings_df_sample, test_size=0.2)\n",
    "    train_data_matrix = np.zeros((n_users, n_movies))\n",
    "    for line in train_data.itertuples():\n",
    "        train_data_matrix[line[1] - 1, line[2] - 1] = line[3]\n",
    "    test_data_matrix = np.zeros((n_users, n_movies))\n",
    "    for line in test_data.itertuples():\n",
    "        test_data_matrix[line[1] - 1, line[2] - 1] = line[3]\n",
    "    \n",
    "    start_time = time.time()\n",
    "    user_similarity = pairwise_distances(train_data_matrix, metric='cosine')\n",
    "    item_similarity = pairwise_distances(train_data_matrix.T, metric='cosine')\n",
    "    end_time = time.time()\n",
    "    e_time = (end_time - start_time)\n",
    "    print(\"Время на инициализацию с n = {}: {} c\".format(n, e_time))\n",
    "    \n",
    "    e_time1 = 0\n",
    "    e_time2 = 0\n",
    "    \n",
    "    for i in range(10):\n",
    "        start_time = time.time()\n",
    "#         for i in range(0, 100):\n",
    "        predict_user(5)\n",
    "        end_time = time.time()\n",
    "        e_time1 += (end_time - start_time)\n",
    "        \n",
    "        start_time = time.time()\n",
    "#         for i in range(0, 100):\n",
    "        predict_item(5)\n",
    "        end_time = time.time()\n",
    "        e_time2 += (end_time - start_time)\n",
    "        \n",
    "    graph1.append(e_time1 / 10)\n",
    "    graph2.append(e_time2 / 10)\n",
    "\n",
    "plt.plot(ns, graph1, marker='s', color='r', label=\"по пользователям, c\");\n",
    "plt.plot(ns, graph2, marker='s', color='g', label=\"по предметам, c\");\n",
    "plt.legend()\n",
    "plt.xlabel('Количество строк в наборе данных')\n",
    "plt.ylabel('Время');"
   ]
  },
  {
   "cell_type": "code",
   "execution_count": null,
   "id": "a8233843",
   "metadata": {},
   "outputs": [],
   "source": []
  },
  {
   "cell_type": "code",
   "execution_count": null,
   "id": "3e84ed0a",
   "metadata": {},
   "outputs": [],
   "source": []
  },
  {
   "cell_type": "code",
   "execution_count": null,
   "id": "07f2a3f5",
   "metadata": {},
   "outputs": [],
   "source": []
  },
  {
   "cell_type": "code",
   "execution_count": null,
   "id": "bf3036d8",
   "metadata": {},
   "outputs": [],
   "source": []
  },
  {
   "cell_type": "code",
   "execution_count": null,
   "id": "f617da7b",
   "metadata": {},
   "outputs": [],
   "source": []
  },
  {
   "cell_type": "code",
   "execution_count": null,
   "id": "dbf5b889",
   "metadata": {},
   "outputs": [],
   "source": []
  }
 ],
 "metadata": {
  "kernelspec": {
   "display_name": "Python 3 (ipykernel)",
   "language": "python",
   "name": "python3"
  },
  "language_info": {
   "codemirror_mode": {
    "name": "ipython",
    "version": 3
   },
   "file_extension": ".py",
   "mimetype": "text/x-python",
   "name": "python",
   "nbconvert_exporter": "python",
   "pygments_lexer": "ipython3",
   "version": "3.9.13"
  }
 },
 "nbformat": 4,
 "nbformat_minor": 5
}
